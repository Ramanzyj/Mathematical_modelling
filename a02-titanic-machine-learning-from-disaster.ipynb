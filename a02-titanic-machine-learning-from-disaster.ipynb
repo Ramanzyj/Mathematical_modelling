{
 "cells": [
  {
   "cell_type": "markdown",
   "id": "aab65d2b",
   "metadata": {
    "toc": true
   },
   "source": [
    "<h1>Table of Contents<span class=\"tocSkip\"></span></h1>\n",
    "<div class=\"toc\"><ul class=\"toc-item\"><li><span><a href=\"#泰坦尼克号——来自灾难的机器学习\" data-toc-modified-id=\"泰坦尼克号——来自灾难的机器学习-1\"><span class=\"toc-item-num\">1&nbsp;&nbsp;</span>泰坦尼克号——来自灾难的机器学习</a></span><ul class=\"toc-item\"><li><span><a href=\"#1.-概述\" data-toc-modified-id=\"1.-概述-1.1\"><span class=\"toc-item-num\">1.1&nbsp;&nbsp;</span>1. 概述</a></span></li><li><span><a href=\"#2.-数据\" data-toc-modified-id=\"2.-数据-1.2\"><span class=\"toc-item-num\">1.2&nbsp;&nbsp;</span>2. 数据</a></span></li><li><span><a href=\"#3.-实施流程\" data-toc-modified-id=\"3.-实施流程-1.3\"><span class=\"toc-item-num\">1.3&nbsp;&nbsp;</span>3. 实施流程</a></span></li><li><span><a href=\"#4.-代码实现\" data-toc-modified-id=\"4.-代码实现-1.4\"><span class=\"toc-item-num\">1.4&nbsp;&nbsp;</span>4. 代码实现</a></span><ul class=\"toc-item\"><li><span><a href=\"#（1）导入包\" data-toc-modified-id=\"（1）导入包-1.4.1\"><span class=\"toc-item-num\">1.4.1&nbsp;&nbsp;</span>（1）导入包</a></span></li><li><span><a href=\"#（2）加载数据集\" data-toc-modified-id=\"（2）加载数据集-1.4.2\"><span class=\"toc-item-num\">1.4.2&nbsp;&nbsp;</span>（2）加载数据集</a></span></li><li><span><a href=\"#（3）描述性统计分析\" data-toc-modified-id=\"（3）描述性统计分析-1.4.3\"><span class=\"toc-item-num\">1.4.3&nbsp;&nbsp;</span>（3）描述性统计分析</a></span></li><li><span><a href=\"#（4）基于数据分析的假设\" data-toc-modified-id=\"（4）基于数据分析的假设-1.4.4\"><span class=\"toc-item-num\">1.4.4&nbsp;&nbsp;</span>（4）基于数据分析的假设</a></span></li><li><span><a href=\"#（5）可视化数据分析\" data-toc-modified-id=\"（5）可视化数据分析-1.4.5\"><span class=\"toc-item-num\">1.4.5&nbsp;&nbsp;</span>（5）可视化数据分析</a></span></li><li><span><a href=\"#（6）整理、清洗数据\" data-toc-modified-id=\"（6）整理、清洗数据-1.4.6\"><span class=\"toc-item-num\">1.4.6&nbsp;&nbsp;</span>（6）整理、清洗数据</a></span></li><li><span><a href=\"#（7）构建模型并预测结果\" data-toc-modified-id=\"（7）构建模型并预测结果-1.4.7\"><span class=\"toc-item-num\">1.4.7&nbsp;&nbsp;</span>（7）构建模型并预测结果</a></span></li><li><span><a href=\"#（8）模型评估\" data-toc-modified-id=\"（8）模型评估-1.4.8\"><span class=\"toc-item-num\">1.4.8&nbsp;&nbsp;</span>（8）模型评估</a></span></li><li><span><a href=\"#（9）提交预测结果\" data-toc-modified-id=\"（9）提交预测结果-1.4.9\"><span class=\"toc-item-num\">1.4.9&nbsp;&nbsp;</span>（9）提交预测结果</a></span></li></ul></li></ul></li></ul></div>"
   ]
  },
  {
   "cell_type": "markdown",
   "id": "0f5f2d0f",
   "metadata": {
    "slideshow": {
     "slide_type": "fragment"
    }
   },
   "source": [
    "# 泰坦尼克号——来自灾难的机器学习"
   ]
  },
  {
   "cell_type": "markdown",
   "id": "b6e22774",
   "metadata": {},
   "source": [
    "## 1. 概述\n",
    "&emsp;&emsp;泰坦尼克号的沉没是历史上最臭名昭著的沉船事件之一。1912 年 4 月 15 日，在她的首次航行中，被广泛认为“永不沉没”的泰坦尼克号在与冰山相撞后沉没。不幸的是，没有足够的救生艇供船上每个人使用，导致 2224 名乘客和船员中有 1502 人死亡。\n",
    "\n",
    "&emsp;&emsp;虽然幸存中涉及到一些运气成分，但似乎有些人比其他人更有可能幸存。\n",
    "\n",
    "&emsp;&emsp;在这个比赛中，要求使用乘客数据（即姓名、年龄、性别、社会经济阶层等），建立一个预测模型来回答以下问题：“什么样的人更有可能幸存？” "
   ]
  },
  {
   "cell_type": "markdown",
   "id": "888efb82",
   "metadata": {},
   "source": [
    "## 2. 数据\n",
    "&emsp;&emsp;有两个相似的数据集，一个是训练集`train.csv`，另一个是测试集`test.csv`。\n",
    "\n",
    "\n",
    "&emsp;&emsp;`train.csv `包含乘客子集的详细信息（准确地说是 891 人），揭示了他们是否幸存，也称为“基本事实”。`test.csv` 数据集包含类似的信息，但没有透露每位乘客是否幸存，预测这些结果是你的工作，即：使用你在 `train.csv` 数据中找到的模式，预测船上的其他 418 名乘客（在 `test.csv `中找到）是否幸存。\n",
    "\n",
    "&emsp;&emsp;下面了解一下`train.csv `数据集中的变量"
   ]
  },
  {
   "cell_type": "markdown",
   "id": "316c44d6",
   "metadata": {},
   "source": [
    "## 3. 实施流程\n",
    "<p>&emsp;&emsp;（1）了解、分析问题；<p>\n",
    "<p>&emsp;&emsp;（2）获取训练集和测试集；<p>\n",
    "<p>&emsp;&emsp;（3）进行数据整理和清洗；<p>\n",
    "<p>&emsp;&emsp;（4）分析识别模式并探索数据，进行特征处理；<p>\n",
    "<p>&emsp;&emsp;（5）建模、预测和解决问题；<p>\n",
    "<p>&emsp;&emsp;（6）提交结果。"
   ]
  },
  {
   "cell_type": "markdown",
   "id": "58d700f5",
   "metadata": {},
   "source": [
    "【注】我们要解决的问题是：从训练集中训练出来的模型是否可以根据给定的不包含幸存信息的测试集，确定测试集中的这些乘客是否幸存。有几个需要注意的重点：\n",
    "\n",
    "&emsp;&emsp;i）1912 年 4 月 15 日，泰坦尼克号在与冰山相撞后沉没，2224 名乘客和船员中有 1502 人遇难，即32%的存活率；<p>\n",
    "&emsp;&emsp;ii）沉船事故导致生命损失的原因之一是没有足够的救生艇供乘客和船员使用；<p>\n",
    "&emsp;&emsp;iii）尽管在沉没中幸存下来有一些运气成分，但某些人群比其他人群更有可能幸存下来，例如妇女、儿童和上层阶级。"
   ]
  },
  {
   "cell_type": "markdown",
   "id": "17b00596",
   "metadata": {},
   "source": [
    "## 4. 代码实现\n",
    "### （1）导入包"
   ]
  },
  {
   "cell_type": "code",
   "execution_count": 1,
   "id": "d657aaa3",
   "metadata": {
    "execution": {
     "iopub.execute_input": "2024-09-13T08:05:34.899031Z",
     "iopub.status.busy": "2024-09-13T08:05:34.897914Z",
     "iopub.status.idle": "2024-09-13T08:05:36.329576Z",
     "shell.execute_reply": "2024-09-13T08:05:36.328036Z",
     "shell.execute_reply.started": "2024-09-13T08:05:34.898953Z"
    },
    "scrolled": true
   },
   "outputs": [
    {
     "data": {
      "text/html": [
       "<style>#sk-container-id-1 {color: black;}#sk-container-id-1 pre{padding: 0;}#sk-container-id-1 div.sk-toggleable {background-color: white;}#sk-container-id-1 label.sk-toggleable__label {cursor: pointer;display: block;width: 100%;margin-bottom: 0;padding: 0.3em;box-sizing: border-box;text-align: center;}#sk-container-id-1 label.sk-toggleable__label-arrow:before {content: \"▸\";float: left;margin-right: 0.25em;color: #696969;}#sk-container-id-1 label.sk-toggleable__label-arrow:hover:before {color: black;}#sk-container-id-1 div.sk-estimator:hover label.sk-toggleable__label-arrow:before {color: black;}#sk-container-id-1 div.sk-toggleable__content {max-height: 0;max-width: 0;overflow: hidden;text-align: left;background-color: #f0f8ff;}#sk-container-id-1 div.sk-toggleable__content pre {margin: 0.2em;color: black;border-radius: 0.25em;background-color: #f0f8ff;}#sk-container-id-1 input.sk-toggleable__control:checked~div.sk-toggleable__content {max-height: 200px;max-width: 100%;overflow: auto;}#sk-container-id-1 input.sk-toggleable__control:checked~label.sk-toggleable__label-arrow:before {content: \"▾\";}#sk-container-id-1 div.sk-estimator input.sk-toggleable__control:checked~label.sk-toggleable__label {background-color: #d4ebff;}#sk-container-id-1 div.sk-label input.sk-toggleable__control:checked~label.sk-toggleable__label {background-color: #d4ebff;}#sk-container-id-1 input.sk-hidden--visually {border: 0;clip: rect(1px 1px 1px 1px);clip: rect(1px, 1px, 1px, 1px);height: 1px;margin: -1px;overflow: hidden;padding: 0;position: absolute;width: 1px;}#sk-container-id-1 div.sk-estimator {font-family: monospace;background-color: #f0f8ff;border: 1px dotted black;border-radius: 0.25em;box-sizing: border-box;margin-bottom: 0.5em;}#sk-container-id-1 div.sk-estimator:hover {background-color: #d4ebff;}#sk-container-id-1 div.sk-parallel-item::after {content: \"\";width: 100%;border-bottom: 1px solid gray;flex-grow: 1;}#sk-container-id-1 div.sk-label:hover label.sk-toggleable__label {background-color: #d4ebff;}#sk-container-id-1 div.sk-serial::before {content: \"\";position: absolute;border-left: 1px solid gray;box-sizing: border-box;top: 0;bottom: 0;left: 50%;z-index: 0;}#sk-container-id-1 div.sk-serial {display: flex;flex-direction: column;align-items: center;background-color: white;padding-right: 0.2em;padding-left: 0.2em;position: relative;}#sk-container-id-1 div.sk-item {position: relative;z-index: 1;}#sk-container-id-1 div.sk-parallel {display: flex;align-items: stretch;justify-content: center;background-color: white;position: relative;}#sk-container-id-1 div.sk-item::before, #sk-container-id-1 div.sk-parallel-item::before {content: \"\";position: absolute;border-left: 1px solid gray;box-sizing: border-box;top: 0;bottom: 0;left: 50%;z-index: -1;}#sk-container-id-1 div.sk-parallel-item {display: flex;flex-direction: column;z-index: 1;position: relative;background-color: white;}#sk-container-id-1 div.sk-parallel-item:first-child::after {align-self: flex-end;width: 50%;}#sk-container-id-1 div.sk-parallel-item:last-child::after {align-self: flex-start;width: 50%;}#sk-container-id-1 div.sk-parallel-item:only-child::after {width: 0;}#sk-container-id-1 div.sk-dashed-wrapped {border: 1px dashed gray;margin: 0 0.4em 0.5em 0.4em;box-sizing: border-box;padding-bottom: 0.4em;background-color: white;}#sk-container-id-1 div.sk-label label {font-family: monospace;font-weight: bold;display: inline-block;line-height: 1.2em;}#sk-container-id-1 div.sk-label-container {text-align: center;}#sk-container-id-1 div.sk-container {/* jupyter's `normalize.less` sets `[hidden] { display: none; }` but bootstrap.min.css set `[hidden] { display: none !important; }` so we also need the `!important` here to be able to override the default hidden behavior on the sphinx rendered scikit-learn.org. See: https://github.com/scikit-learn/scikit-learn/issues/21755 */display: inline-block !important;position: relative;}#sk-container-id-1 div.sk-text-repr-fallback {display: none;}</style><div id=\"sk-container-id-1\" class=\"sk-top-container\"><div class=\"sk-text-repr-fallback\"><pre>SVC()</pre><b>In a Jupyter environment, please rerun this cell to show the HTML representation or trust the notebook. <br />On GitHub, the HTML representation is unable to render, please try loading this page with nbviewer.org.</b></div><div class=\"sk-container\" hidden><div class=\"sk-item\"><div class=\"sk-estimator sk-toggleable\"><input class=\"sk-toggleable__control sk-hidden--visually\" id=\"sk-estimator-id-1\" type=\"checkbox\" checked><label for=\"sk-estimator-id-1\" class=\"sk-toggleable__label sk-toggleable__label-arrow\">SVC</label><div class=\"sk-toggleable__content\"><pre>SVC()</pre></div></div></div></div></div>"
      ],
      "text/plain": [
       "SVC()"
      ]
     },
     "execution_count": 1,
     "metadata": {},
     "output_type": "execute_result"
    }
   ],
   "source": [
    "import warnings\n",
    "warnings.filterwarnings(\"ignore\") #忽略警告信息\n",
    "\n",
    "# 数据处理清洗包\n",
    "import pandas as pd\n",
    "import numpy as np\n",
    "import random as rnd\n",
    "\n",
    "# 可视化包\n",
    "import seaborn as sns\n",
    "import matplotlib.pyplot as plt\n",
    "%matplotlib inline\n",
    "\n",
    "# 机器学习算法相关包\n",
    "from sklearn.linear_model import LogisticRegression, Perceptron, SGDClassifier\n",
    "from sklearn.svm import SVC, LinearSVC\n",
    "from sklearn.neighbors import KNeighborsClassifier\n",
    "from sklearn.naive_bayes import GaussianNB\n",
    "from sklearn.tree import DecisionTreeClassifier\n",
    "from sklearn.ensemble import RandomForestClassifier\n",
    "\n",
    "SVC()"
   ]
  },
  {
   "cell_type": "markdown",
   "id": "0670b459",
   "metadata": {},
   "source": [
    "### （2）加载数据集"
   ]
  },
  {
   "cell_type": "code",
   "execution_count": 2,
   "id": "251b8cf4",
   "metadata": {
    "execution": {
     "iopub.execute_input": "2024-09-13T08:05:36.333436Z",
     "iopub.status.busy": "2024-09-13T08:05:36.332607Z",
     "iopub.status.idle": "2024-09-13T08:05:36.355790Z",
     "shell.execute_reply": "2024-09-13T08:05:36.354368Z",
     "shell.execute_reply.started": "2024-09-13T08:05:36.333372Z"
    },
    "scrolled": false
   },
   "outputs": [
    {
     "data": {
      "text/html": [
       "<div>\n",
       "<style scoped>\n",
       "    .dataframe tbody tr th:only-of-type {\n",
       "        vertical-align: middle;\n",
       "    }\n",
       "\n",
       "    .dataframe tbody tr th {\n",
       "        vertical-align: top;\n",
       "    }\n",
       "\n",
       "    .dataframe thead th {\n",
       "        text-align: right;\n",
       "    }\n",
       "</style>\n",
       "<table border=\"1\" class=\"dataframe\">\n",
       "  <thead>\n",
       "    <tr style=\"text-align: right;\">\n",
       "      <th></th>\n",
       "      <th>PassengerId</th>\n",
       "      <th>Survived</th>\n",
       "      <th>Pclass</th>\n",
       "      <th>Name</th>\n",
       "      <th>Sex</th>\n",
       "      <th>Age</th>\n",
       "      <th>SibSp</th>\n",
       "      <th>Parch</th>\n",
       "      <th>Ticket</th>\n",
       "      <th>Fare</th>\n",
       "      <th>Cabin</th>\n",
       "      <th>Embarked</th>\n",
       "    </tr>\n",
       "  </thead>\n",
       "  <tbody>\n",
       "    <tr>\n",
       "      <th>0</th>\n",
       "      <td>1</td>\n",
       "      <td>0</td>\n",
       "      <td>3</td>\n",
       "      <td>Braund, Mr. Owen Harris</td>\n",
       "      <td>male</td>\n",
       "      <td>22.0</td>\n",
       "      <td>1</td>\n",
       "      <td>0</td>\n",
       "      <td>A/5 21171</td>\n",
       "      <td>7.2500</td>\n",
       "      <td>NaN</td>\n",
       "      <td>S</td>\n",
       "    </tr>\n",
       "    <tr>\n",
       "      <th>1</th>\n",
       "      <td>2</td>\n",
       "      <td>1</td>\n",
       "      <td>1</td>\n",
       "      <td>Cumings, Mrs. John Bradley (Florence Briggs Th...</td>\n",
       "      <td>female</td>\n",
       "      <td>38.0</td>\n",
       "      <td>1</td>\n",
       "      <td>0</td>\n",
       "      <td>PC 17599</td>\n",
       "      <td>71.2833</td>\n",
       "      <td>C85</td>\n",
       "      <td>C</td>\n",
       "    </tr>\n",
       "    <tr>\n",
       "      <th>2</th>\n",
       "      <td>3</td>\n",
       "      <td>1</td>\n",
       "      <td>3</td>\n",
       "      <td>Heikkinen, Miss. Laina</td>\n",
       "      <td>female</td>\n",
       "      <td>26.0</td>\n",
       "      <td>0</td>\n",
       "      <td>0</td>\n",
       "      <td>STON/O2. 3101282</td>\n",
       "      <td>7.9250</td>\n",
       "      <td>NaN</td>\n",
       "      <td>S</td>\n",
       "    </tr>\n",
       "    <tr>\n",
       "      <th>3</th>\n",
       "      <td>4</td>\n",
       "      <td>1</td>\n",
       "      <td>1</td>\n",
       "      <td>Futrelle, Mrs. Jacques Heath (Lily May Peel)</td>\n",
       "      <td>female</td>\n",
       "      <td>35.0</td>\n",
       "      <td>1</td>\n",
       "      <td>0</td>\n",
       "      <td>113803</td>\n",
       "      <td>53.1000</td>\n",
       "      <td>C123</td>\n",
       "      <td>S</td>\n",
       "    </tr>\n",
       "    <tr>\n",
       "      <th>4</th>\n",
       "      <td>5</td>\n",
       "      <td>0</td>\n",
       "      <td>3</td>\n",
       "      <td>Allen, Mr. William Henry</td>\n",
       "      <td>male</td>\n",
       "      <td>35.0</td>\n",
       "      <td>0</td>\n",
       "      <td>0</td>\n",
       "      <td>373450</td>\n",
       "      <td>8.0500</td>\n",
       "      <td>NaN</td>\n",
       "      <td>S</td>\n",
       "    </tr>\n",
       "  </tbody>\n",
       "</table>\n",
       "</div>"
      ],
      "text/plain": [
       "   PassengerId  Survived  Pclass  \\\n",
       "0            1         0       3   \n",
       "1            2         1       1   \n",
       "2            3         1       3   \n",
       "3            4         1       1   \n",
       "4            5         0       3   \n",
       "\n",
       "                                                Name     Sex   Age  SibSp  \\\n",
       "0                            Braund, Mr. Owen Harris    male  22.0      1   \n",
       "1  Cumings, Mrs. John Bradley (Florence Briggs Th...  female  38.0      1   \n",
       "2                             Heikkinen, Miss. Laina  female  26.0      0   \n",
       "3       Futrelle, Mrs. Jacques Heath (Lily May Peel)  female  35.0      1   \n",
       "4                           Allen, Mr. William Henry    male  35.0      0   \n",
       "\n",
       "   Parch            Ticket     Fare Cabin Embarked  \n",
       "0      0         A/5 21171   7.2500   NaN        S  \n",
       "1      0          PC 17599  71.2833   C85        C  \n",
       "2      0  STON/O2. 3101282   7.9250   NaN        S  \n",
       "3      0            113803  53.1000  C123        S  \n",
       "4      0            373450   8.0500   NaN        S  "
      ]
     },
     "execution_count": 2,
     "metadata": {},
     "output_type": "execute_result"
    }
   ],
   "source": [
    "train_df = pd.read_csv('E:\\\\08-Paper\\\\01-code\\\\04-moding\\\\train.csv')\n",
    "test_df = pd.read_csv('E:\\\\08-Paper\\\\01-code\\\\04-moding\\\\test.csv')\n",
    "combine = [train_df, test_df] # 合并数据\n",
    "train_df.head()"
   ]
  },
  {
   "cell_type": "markdown",
   "id": "6ed09788",
   "metadata": {},
   "source": [
    "### （3）描述性统计分析"
   ]
  },
  {
   "cell_type": "code",
   "execution_count": 3,
   "id": "ce4ba77c",
   "metadata": {
    "execution": {
     "iopub.execute_input": "2024-09-13T08:05:36.358165Z",
     "iopub.status.busy": "2024-09-13T08:05:36.357627Z",
     "iopub.status.idle": "2024-09-13T08:05:36.366554Z",
     "shell.execute_reply": "2024-09-13T08:05:36.365131Z",
     "shell.execute_reply.started": "2024-09-13T08:05:36.358108Z"
    }
   },
   "outputs": [
    {
     "name": "stdout",
     "output_type": "stream",
     "text": [
      "['PassengerId' 'Survived' 'Pclass' 'Name' 'Sex' 'Age' 'SibSp' 'Parch'\n",
      " 'Ticket' 'Fare' 'Cabin' 'Embarked']\n"
     ]
    }
   ],
   "source": [
    "# 获取所有特征名\n",
    "print(train_df.columns.values)"
   ]
  },
  {
   "cell_type": "code",
   "execution_count": 4,
   "id": "a36ffd77",
   "metadata": {
    "execution": {
     "iopub.execute_input": "2024-09-13T08:05:36.369981Z",
     "iopub.status.busy": "2024-09-13T08:05:36.368567Z",
     "iopub.status.idle": "2024-09-13T08:05:36.391220Z",
     "shell.execute_reply": "2024-09-13T08:05:36.389762Z",
     "shell.execute_reply.started": "2024-09-13T08:05:36.369920Z"
    },
    "scrolled": true
   },
   "outputs": [
    {
     "data": {
      "text/html": [
       "<div>\n",
       "<style scoped>\n",
       "    .dataframe tbody tr th:only-of-type {\n",
       "        vertical-align: middle;\n",
       "    }\n",
       "\n",
       "    .dataframe tbody tr th {\n",
       "        vertical-align: top;\n",
       "    }\n",
       "\n",
       "    .dataframe thead th {\n",
       "        text-align: right;\n",
       "    }\n",
       "</style>\n",
       "<table border=\"1\" class=\"dataframe\">\n",
       "  <thead>\n",
       "    <tr style=\"text-align: right;\">\n",
       "      <th></th>\n",
       "      <th>PassengerId</th>\n",
       "      <th>Survived</th>\n",
       "      <th>Pclass</th>\n",
       "      <th>Name</th>\n",
       "      <th>Sex</th>\n",
       "      <th>Age</th>\n",
       "      <th>SibSp</th>\n",
       "      <th>Parch</th>\n",
       "      <th>Ticket</th>\n",
       "      <th>Fare</th>\n",
       "      <th>Cabin</th>\n",
       "      <th>Embarked</th>\n",
       "    </tr>\n",
       "  </thead>\n",
       "  <tbody>\n",
       "    <tr>\n",
       "      <th>0</th>\n",
       "      <td>1</td>\n",
       "      <td>0</td>\n",
       "      <td>3</td>\n",
       "      <td>Braund, Mr. Owen Harris</td>\n",
       "      <td>male</td>\n",
       "      <td>22.0</td>\n",
       "      <td>1</td>\n",
       "      <td>0</td>\n",
       "      <td>A/5 21171</td>\n",
       "      <td>7.2500</td>\n",
       "      <td>NaN</td>\n",
       "      <td>S</td>\n",
       "    </tr>\n",
       "    <tr>\n",
       "      <th>1</th>\n",
       "      <td>2</td>\n",
       "      <td>1</td>\n",
       "      <td>1</td>\n",
       "      <td>Cumings, Mrs. John Bradley (Florence Briggs Th...</td>\n",
       "      <td>female</td>\n",
       "      <td>38.0</td>\n",
       "      <td>1</td>\n",
       "      <td>0</td>\n",
       "      <td>PC 17599</td>\n",
       "      <td>71.2833</td>\n",
       "      <td>C85</td>\n",
       "      <td>C</td>\n",
       "    </tr>\n",
       "    <tr>\n",
       "      <th>2</th>\n",
       "      <td>3</td>\n",
       "      <td>1</td>\n",
       "      <td>3</td>\n",
       "      <td>Heikkinen, Miss. Laina</td>\n",
       "      <td>female</td>\n",
       "      <td>26.0</td>\n",
       "      <td>0</td>\n",
       "      <td>0</td>\n",
       "      <td>STON/O2. 3101282</td>\n",
       "      <td>7.9250</td>\n",
       "      <td>NaN</td>\n",
       "      <td>S</td>\n",
       "    </tr>\n",
       "    <tr>\n",
       "      <th>3</th>\n",
       "      <td>4</td>\n",
       "      <td>1</td>\n",
       "      <td>1</td>\n",
       "      <td>Futrelle, Mrs. Jacques Heath (Lily May Peel)</td>\n",
       "      <td>female</td>\n",
       "      <td>35.0</td>\n",
       "      <td>1</td>\n",
       "      <td>0</td>\n",
       "      <td>113803</td>\n",
       "      <td>53.1000</td>\n",
       "      <td>C123</td>\n",
       "      <td>S</td>\n",
       "    </tr>\n",
       "    <tr>\n",
       "      <th>4</th>\n",
       "      <td>5</td>\n",
       "      <td>0</td>\n",
       "      <td>3</td>\n",
       "      <td>Allen, Mr. William Henry</td>\n",
       "      <td>male</td>\n",
       "      <td>35.0</td>\n",
       "      <td>0</td>\n",
       "      <td>0</td>\n",
       "      <td>373450</td>\n",
       "      <td>8.0500</td>\n",
       "      <td>NaN</td>\n",
       "      <td>S</td>\n",
       "    </tr>\n",
       "  </tbody>\n",
       "</table>\n",
       "</div>"
      ],
      "text/plain": [
       "   PassengerId  Survived  Pclass  \\\n",
       "0            1         0       3   \n",
       "1            2         1       1   \n",
       "2            3         1       3   \n",
       "3            4         1       1   \n",
       "4            5         0       3   \n",
       "\n",
       "                                                Name     Sex   Age  SibSp  \\\n",
       "0                            Braund, Mr. Owen Harris    male  22.0      1   \n",
       "1  Cumings, Mrs. John Bradley (Florence Briggs Th...  female  38.0      1   \n",
       "2                             Heikkinen, Miss. Laina  female  26.0      0   \n",
       "3       Futrelle, Mrs. Jacques Heath (Lily May Peel)  female  35.0      1   \n",
       "4                           Allen, Mr. William Henry    male  35.0      0   \n",
       "\n",
       "   Parch            Ticket     Fare Cabin Embarked  \n",
       "0      0         A/5 21171   7.2500   NaN        S  \n",
       "1      0          PC 17599  71.2833   C85        C  \n",
       "2      0  STON/O2. 3101282   7.9250   NaN        S  \n",
       "3      0            113803  53.1000  C123        S  \n",
       "4      0            373450   8.0500   NaN        S  "
      ]
     },
     "execution_count": 4,
     "metadata": {},
     "output_type": "execute_result"
    }
   ],
   "source": [
    "# 预览数据\n",
    "train_df.head()"
   ]
  },
  {
   "cell_type": "code",
   "execution_count": 5,
   "id": "113f3daa",
   "metadata": {
    "execution": {
     "iopub.execute_input": "2024-09-13T08:05:36.396129Z",
     "iopub.status.busy": "2024-09-13T08:05:36.395119Z",
     "iopub.status.idle": "2024-09-13T08:05:36.415140Z",
     "shell.execute_reply": "2024-09-13T08:05:36.413840Z",
     "shell.execute_reply.started": "2024-09-13T08:05:36.396066Z"
    },
    "scrolled": true
   },
   "outputs": [
    {
     "data": {
      "text/html": [
       "<div>\n",
       "<style scoped>\n",
       "    .dataframe tbody tr th:only-of-type {\n",
       "        vertical-align: middle;\n",
       "    }\n",
       "\n",
       "    .dataframe tbody tr th {\n",
       "        vertical-align: top;\n",
       "    }\n",
       "\n",
       "    .dataframe thead th {\n",
       "        text-align: right;\n",
       "    }\n",
       "</style>\n",
       "<table border=\"1\" class=\"dataframe\">\n",
       "  <thead>\n",
       "    <tr style=\"text-align: right;\">\n",
       "      <th></th>\n",
       "      <th>PassengerId</th>\n",
       "      <th>Survived</th>\n",
       "      <th>Pclass</th>\n",
       "      <th>Name</th>\n",
       "      <th>Sex</th>\n",
       "      <th>Age</th>\n",
       "      <th>SibSp</th>\n",
       "      <th>Parch</th>\n",
       "      <th>Ticket</th>\n",
       "      <th>Fare</th>\n",
       "      <th>Cabin</th>\n",
       "      <th>Embarked</th>\n",
       "    </tr>\n",
       "  </thead>\n",
       "  <tbody>\n",
       "    <tr>\n",
       "      <th>886</th>\n",
       "      <td>887</td>\n",
       "      <td>0</td>\n",
       "      <td>2</td>\n",
       "      <td>Montvila, Rev. Juozas</td>\n",
       "      <td>male</td>\n",
       "      <td>27.0</td>\n",
       "      <td>0</td>\n",
       "      <td>0</td>\n",
       "      <td>211536</td>\n",
       "      <td>13.00</td>\n",
       "      <td>NaN</td>\n",
       "      <td>S</td>\n",
       "    </tr>\n",
       "    <tr>\n",
       "      <th>887</th>\n",
       "      <td>888</td>\n",
       "      <td>1</td>\n",
       "      <td>1</td>\n",
       "      <td>Graham, Miss. Margaret Edith</td>\n",
       "      <td>female</td>\n",
       "      <td>19.0</td>\n",
       "      <td>0</td>\n",
       "      <td>0</td>\n",
       "      <td>112053</td>\n",
       "      <td>30.00</td>\n",
       "      <td>B42</td>\n",
       "      <td>S</td>\n",
       "    </tr>\n",
       "    <tr>\n",
       "      <th>888</th>\n",
       "      <td>889</td>\n",
       "      <td>0</td>\n",
       "      <td>3</td>\n",
       "      <td>Johnston, Miss. Catherine Helen \"Carrie\"</td>\n",
       "      <td>female</td>\n",
       "      <td>NaN</td>\n",
       "      <td>1</td>\n",
       "      <td>2</td>\n",
       "      <td>W./C. 6607</td>\n",
       "      <td>23.45</td>\n",
       "      <td>NaN</td>\n",
       "      <td>S</td>\n",
       "    </tr>\n",
       "    <tr>\n",
       "      <th>889</th>\n",
       "      <td>890</td>\n",
       "      <td>1</td>\n",
       "      <td>1</td>\n",
       "      <td>Behr, Mr. Karl Howell</td>\n",
       "      <td>male</td>\n",
       "      <td>26.0</td>\n",
       "      <td>0</td>\n",
       "      <td>0</td>\n",
       "      <td>111369</td>\n",
       "      <td>30.00</td>\n",
       "      <td>C148</td>\n",
       "      <td>C</td>\n",
       "    </tr>\n",
       "    <tr>\n",
       "      <th>890</th>\n",
       "      <td>891</td>\n",
       "      <td>0</td>\n",
       "      <td>3</td>\n",
       "      <td>Dooley, Mr. Patrick</td>\n",
       "      <td>male</td>\n",
       "      <td>32.0</td>\n",
       "      <td>0</td>\n",
       "      <td>0</td>\n",
       "      <td>370376</td>\n",
       "      <td>7.75</td>\n",
       "      <td>NaN</td>\n",
       "      <td>Q</td>\n",
       "    </tr>\n",
       "  </tbody>\n",
       "</table>\n",
       "</div>"
      ],
      "text/plain": [
       "     PassengerId  Survived  Pclass                                      Name  \\\n",
       "886          887         0       2                     Montvila, Rev. Juozas   \n",
       "887          888         1       1              Graham, Miss. Margaret Edith   \n",
       "888          889         0       3  Johnston, Miss. Catherine Helen \"Carrie\"   \n",
       "889          890         1       1                     Behr, Mr. Karl Howell   \n",
       "890          891         0       3                       Dooley, Mr. Patrick   \n",
       "\n",
       "        Sex   Age  SibSp  Parch      Ticket   Fare Cabin Embarked  \n",
       "886    male  27.0      0      0      211536  13.00   NaN        S  \n",
       "887  female  19.0      0      0      112053  30.00   B42        S  \n",
       "888  female   NaN      1      2  W./C. 6607  23.45   NaN        S  \n",
       "889    male  26.0      0      0      111369  30.00  C148        C  \n",
       "890    male  32.0      0      0      370376   7.75   NaN        Q  "
      ]
     },
     "execution_count": 5,
     "metadata": {},
     "output_type": "execute_result"
    }
   ],
   "source": [
    "train_df.tail()"
   ]
  },
  {
   "cell_type": "markdown",
   "id": "ebd39565",
   "metadata": {},
   "source": []
  },
  {
   "cell_type": "markdown",
   "id": "58e110e8",
   "metadata": {},
   "source": [
    "**1. Pclass（用户阶级）：**\n",
    "\n",
    "描述用户所属的等级，总共分为三等，用 1、2、3 来描述，其中：\n",
    "- 1 - 1st class，头等舱；\n",
    "- 2 - 2nd class，二等舱；\n",
    "- 3 - 3rd class，三等舱；\n",
    "\n",
    "**2. Survived 是否存活（survived）：**\n",
    "\n",
    "描述乘客是否存活。\n",
    "- 0 - 用户未能存活；\n",
    "- 1 - 用户存活；\n",
    "\n",
    "**3. Name（名字）：**\n",
    "\n",
    "描述乘客的全名。例如上例中的 Rugg, Miss. Emily 中：\n",
    "- Allen, ：first name，即名；\n",
    "- Miss. ：title，即称谓；\n",
    "- Walton ：last name，即姓\n",
    "\n",
    "**4. Sex（性别）：**\n",
    "\n",
    "描述乘客的性别，其中：\n",
    "- male - 男性；\n",
    "- female - 女性；\n",
    "\n",
    "**5. Age（年龄）：**\n",
    "\n",
    "描述乘客的年龄，其中有部分缺失值，需要用一些手段将其补全，具体的方法方在下面数据清洗中；\n",
    "\n",
    "**6. SibSp 和 Parch：**\n",
    "\n",
    "- SibSp：描述了泰坦尼克号上与乘客同行的兄弟姐妹（Siblings）和配偶（Spouse）数目；\n",
    "- Parch：描述了泰坦尼克号上与乘客同行的家长（Parents）和孩子（Children）数目；\n",
    "\n",
    "**7. Ticket（船票号）：**\n",
    "\n",
    "描述乘客登船所使用的船票编号。虽然它没有编码上的规律，不存在缺失值，但是唯一值可以看到，同之前唯一定位的乘客编号不同，也就是说可能会有人重复使用船票的情况，具体处理会在数据清洗中介绍；\n",
    "\n",
    "**8. Fare（乘客费用）：**\n",
    "\n",
    "描述乘客上传所花费的费用；\n",
    "\n",
    "**9. Cabin（船舱）：**\n",
    "\n",
    "描述用户所住的船舱编号。由两部分组成，仓位号和房间编号，如 C88 中，C 和 88 分别对应 C 仓位和 88 号房间。本字段缺失值较多，具体处理方法会在后面的数据清洗部分进行介绍。\n",
    "\n",
    "**10. Embarked（港口）：**\n",
    "\n",
    "描述乘客上船时的港口，包含三种类型：\n",
    "- C：Cherbourg，瑟堡；\n",
    "- Q：Queenstown，皇后镇；\n",
    "- S：Southampton，南安普敦；\n",
    "\n",
    "**11. boat（救生艇）：**\n",
    "\n",
    "**12. body（身份证号）：**\n",
    "\n",
    "**13. home_dest（家庭住址）：**"
   ]
  },
  {
   "cell_type": "markdown",
   "id": "46750366",
   "metadata": {},
   "source": [
    "**哪些特征包含缺失值（空值，null,nan)?**\n",
    "\n",
    "- 在训练集中，缺失值数目 Cabin > Age > Embarked；\n",
    "- 在测试集中，缺失值数目 Cabin > Age > Fare。\n",
    "\n"
   ]
  },
  {
   "cell_type": "code",
   "execution_count": 6,
   "id": "de085635",
   "metadata": {
    "execution": {
     "iopub.execute_input": "2024-09-13T08:05:36.418026Z",
     "iopub.status.busy": "2024-09-13T08:05:36.417272Z",
     "iopub.status.idle": "2024-09-13T08:05:36.433880Z",
     "shell.execute_reply": "2024-09-13T08:05:36.432535Z",
     "shell.execute_reply.started": "2024-09-13T08:05:36.417961Z"
    }
   },
   "outputs": [
    {
     "name": "stdout",
     "output_type": "stream",
     "text": [
      "PassengerId      0\n",
      "Survived         0\n",
      "Pclass           0\n",
      "Name             0\n",
      "Sex              0\n",
      "Age            177\n",
      "SibSp            0\n",
      "Parch            0\n",
      "Ticket           0\n",
      "Fare             0\n",
      "Cabin          687\n",
      "Embarked         2\n",
      "dtype: int64\n",
      "________________________________________\n"
     ]
    },
    {
     "data": {
      "text/plain": [
       "PassengerId      0\n",
       "Pclass           0\n",
       "Name             0\n",
       "Sex              0\n",
       "Age             86\n",
       "SibSp            0\n",
       "Parch            0\n",
       "Ticket           0\n",
       "Fare             1\n",
       "Cabin          327\n",
       "Embarked         0\n",
       "dtype: int64"
      ]
     },
     "execution_count": 6,
     "metadata": {},
     "output_type": "execute_result"
    }
   ],
   "source": [
    "print(train_df.isnull().sum())\n",
    "print('_'*40)\n",
    "test_df.isnull().sum()"
   ]
  },
  {
   "cell_type": "code",
   "execution_count": 7,
   "id": "0903e278",
   "metadata": {
    "execution": {
     "iopub.execute_input": "2024-09-13T08:05:36.436158Z",
     "iopub.status.busy": "2024-09-13T08:05:36.435682Z",
     "iopub.status.idle": "2024-09-13T08:05:36.480873Z",
     "shell.execute_reply": "2024-09-13T08:05:36.479060Z",
     "shell.execute_reply.started": "2024-09-13T08:05:36.436106Z"
    }
   },
   "outputs": [
    {
     "name": "stdout",
     "output_type": "stream",
     "text": [
      "<class 'pandas.core.frame.DataFrame'>\n",
      "RangeIndex: 891 entries, 0 to 890\n",
      "Data columns (total 12 columns):\n",
      " #   Column       Non-Null Count  Dtype  \n",
      "---  ------       --------------  -----  \n",
      " 0   PassengerId  891 non-null    int64  \n",
      " 1   Survived     891 non-null    int64  \n",
      " 2   Pclass       891 non-null    int64  \n",
      " 3   Name         891 non-null    object \n",
      " 4   Sex          891 non-null    object \n",
      " 5   Age          714 non-null    float64\n",
      " 6   SibSp        891 non-null    int64  \n",
      " 7   Parch        891 non-null    int64  \n",
      " 8   Ticket       891 non-null    object \n",
      " 9   Fare         891 non-null    float64\n",
      " 10  Cabin        204 non-null    object \n",
      " 11  Embarked     889 non-null    object \n",
      "dtypes: float64(2), int64(5), object(5)\n",
      "memory usage: 83.7+ KB\n",
      "________________________________________\n",
      "<class 'pandas.core.frame.DataFrame'>\n",
      "RangeIndex: 418 entries, 0 to 417\n",
      "Data columns (total 11 columns):\n",
      " #   Column       Non-Null Count  Dtype  \n",
      "---  ------       --------------  -----  \n",
      " 0   PassengerId  418 non-null    int64  \n",
      " 1   Pclass       418 non-null    int64  \n",
      " 2   Name         418 non-null    object \n",
      " 3   Sex          418 non-null    object \n",
      " 4   Age          332 non-null    float64\n",
      " 5   SibSp        418 non-null    int64  \n",
      " 6   Parch        418 non-null    int64  \n",
      " 7   Ticket       418 non-null    object \n",
      " 8   Fare         417 non-null    float64\n",
      " 9   Cabin        91 non-null     object \n",
      " 10  Embarked     418 non-null    object \n",
      "dtypes: float64(2), int64(4), object(5)\n",
      "memory usage: 36.0+ KB\n"
     ]
    }
   ],
   "source": [
    "train_df.info()\n",
    "print('_'*40)\n",
    "test_df.info()"
   ]
  },
  {
   "cell_type": "markdown",
   "id": "cc10da61",
   "metadata": {},
   "source": [
    "**各种特征的数据类型是什么？**\n",
    "\n",
    "- 在训练集中，7个特征是整数型或浮点型，5个特征是字符串型；\n",
    "- 在测试集中，6个特征是整数型或浮点型，5个特征是字符串型。"
   ]
  },
  {
   "cell_type": "code",
   "execution_count": 8,
   "id": "d913a427",
   "metadata": {
    "execution": {
     "iopub.execute_input": "2024-09-13T08:05:36.483716Z",
     "iopub.status.busy": "2024-09-13T08:05:36.483175Z",
     "iopub.status.idle": "2024-09-13T08:05:36.530136Z",
     "shell.execute_reply": "2024-09-13T08:05:36.528607Z",
     "shell.execute_reply.started": "2024-09-13T08:05:36.483652Z"
    }
   },
   "outputs": [
    {
     "data": {
      "text/html": [
       "<div>\n",
       "<style scoped>\n",
       "    .dataframe tbody tr th:only-of-type {\n",
       "        vertical-align: middle;\n",
       "    }\n",
       "\n",
       "    .dataframe tbody tr th {\n",
       "        vertical-align: top;\n",
       "    }\n",
       "\n",
       "    .dataframe thead th {\n",
       "        text-align: right;\n",
       "    }\n",
       "</style>\n",
       "<table border=\"1\" class=\"dataframe\">\n",
       "  <thead>\n",
       "    <tr style=\"text-align: right;\">\n",
       "      <th></th>\n",
       "      <th>PassengerId</th>\n",
       "      <th>Survived</th>\n",
       "      <th>Pclass</th>\n",
       "      <th>Age</th>\n",
       "      <th>SibSp</th>\n",
       "      <th>Parch</th>\n",
       "      <th>Fare</th>\n",
       "    </tr>\n",
       "  </thead>\n",
       "  <tbody>\n",
       "    <tr>\n",
       "      <th>count</th>\n",
       "      <td>891.00</td>\n",
       "      <td>891.00</td>\n",
       "      <td>891.00</td>\n",
       "      <td>714.00</td>\n",
       "      <td>891.00</td>\n",
       "      <td>891.00</td>\n",
       "      <td>891.00</td>\n",
       "    </tr>\n",
       "    <tr>\n",
       "      <th>mean</th>\n",
       "      <td>446.00</td>\n",
       "      <td>0.38</td>\n",
       "      <td>2.31</td>\n",
       "      <td>29.70</td>\n",
       "      <td>0.52</td>\n",
       "      <td>0.38</td>\n",
       "      <td>32.20</td>\n",
       "    </tr>\n",
       "    <tr>\n",
       "      <th>std</th>\n",
       "      <td>257.35</td>\n",
       "      <td>0.49</td>\n",
       "      <td>0.84</td>\n",
       "      <td>14.53</td>\n",
       "      <td>1.10</td>\n",
       "      <td>0.81</td>\n",
       "      <td>49.69</td>\n",
       "    </tr>\n",
       "    <tr>\n",
       "      <th>min</th>\n",
       "      <td>1.00</td>\n",
       "      <td>0.00</td>\n",
       "      <td>1.00</td>\n",
       "      <td>0.42</td>\n",
       "      <td>0.00</td>\n",
       "      <td>0.00</td>\n",
       "      <td>0.00</td>\n",
       "    </tr>\n",
       "    <tr>\n",
       "      <th>50%</th>\n",
       "      <td>446.00</td>\n",
       "      <td>0.00</td>\n",
       "      <td>3.00</td>\n",
       "      <td>28.00</td>\n",
       "      <td>0.00</td>\n",
       "      <td>0.00</td>\n",
       "      <td>14.45</td>\n",
       "    </tr>\n",
       "    <tr>\n",
       "      <th>60%</th>\n",
       "      <td>535.00</td>\n",
       "      <td>0.00</td>\n",
       "      <td>3.00</td>\n",
       "      <td>31.80</td>\n",
       "      <td>0.00</td>\n",
       "      <td>0.00</td>\n",
       "      <td>21.68</td>\n",
       "    </tr>\n",
       "    <tr>\n",
       "      <th>70%</th>\n",
       "      <td>624.00</td>\n",
       "      <td>1.00</td>\n",
       "      <td>3.00</td>\n",
       "      <td>36.00</td>\n",
       "      <td>1.00</td>\n",
       "      <td>0.00</td>\n",
       "      <td>27.00</td>\n",
       "    </tr>\n",
       "    <tr>\n",
       "      <th>75%</th>\n",
       "      <td>668.50</td>\n",
       "      <td>1.00</td>\n",
       "      <td>3.00</td>\n",
       "      <td>38.00</td>\n",
       "      <td>1.00</td>\n",
       "      <td>0.00</td>\n",
       "      <td>31.00</td>\n",
       "    </tr>\n",
       "    <tr>\n",
       "      <th>80%</th>\n",
       "      <td>713.00</td>\n",
       "      <td>1.00</td>\n",
       "      <td>3.00</td>\n",
       "      <td>41.00</td>\n",
       "      <td>1.00</td>\n",
       "      <td>1.00</td>\n",
       "      <td>39.69</td>\n",
       "    </tr>\n",
       "    <tr>\n",
       "      <th>90%</th>\n",
       "      <td>802.00</td>\n",
       "      <td>1.00</td>\n",
       "      <td>3.00</td>\n",
       "      <td>50.00</td>\n",
       "      <td>1.00</td>\n",
       "      <td>2.00</td>\n",
       "      <td>77.96</td>\n",
       "    </tr>\n",
       "    <tr>\n",
       "      <th>99%</th>\n",
       "      <td>882.10</td>\n",
       "      <td>1.00</td>\n",
       "      <td>3.00</td>\n",
       "      <td>65.87</td>\n",
       "      <td>5.00</td>\n",
       "      <td>4.00</td>\n",
       "      <td>249.01</td>\n",
       "    </tr>\n",
       "    <tr>\n",
       "      <th>max</th>\n",
       "      <td>891.00</td>\n",
       "      <td>1.00</td>\n",
       "      <td>3.00</td>\n",
       "      <td>80.00</td>\n",
       "      <td>8.00</td>\n",
       "      <td>6.00</td>\n",
       "      <td>512.33</td>\n",
       "    </tr>\n",
       "  </tbody>\n",
       "</table>\n",
       "</div>"
      ],
      "text/plain": [
       "       PassengerId  Survived  Pclass     Age   SibSp   Parch    Fare\n",
       "count       891.00    891.00  891.00  714.00  891.00  891.00  891.00\n",
       "mean        446.00      0.38    2.31   29.70    0.52    0.38   32.20\n",
       "std         257.35      0.49    0.84   14.53    1.10    0.81   49.69\n",
       "min           1.00      0.00    1.00    0.42    0.00    0.00    0.00\n",
       "50%         446.00      0.00    3.00   28.00    0.00    0.00   14.45\n",
       "60%         535.00      0.00    3.00   31.80    0.00    0.00   21.68\n",
       "70%         624.00      1.00    3.00   36.00    1.00    0.00   27.00\n",
       "75%         668.50      1.00    3.00   38.00    1.00    0.00   31.00\n",
       "80%         713.00      1.00    3.00   41.00    1.00    1.00   39.69\n",
       "90%         802.00      1.00    3.00   50.00    1.00    2.00   77.96\n",
       "99%         882.10      1.00    3.00   65.87    5.00    4.00  249.01\n",
       "max         891.00      1.00    3.00   80.00    8.00    6.00  512.33"
      ]
     },
     "execution_count": 8,
     "metadata": {},
     "output_type": "execute_result"
    }
   ],
   "source": [
    "round(train_df.describe(percentiles=[.5, .6, .7, .75, .8, .9, .99]),2)"
   ]
  },
  {
   "cell_type": "markdown",
   "id": "efac935f",
   "metadata": {},
   "source": [
    "**样本中数值特征的分布是什么？**\n",
    "- 样本总数为891 人，约占泰坦尼克号上实际乘客人数（2,224 人）的40%；\n",
    "- Survived 是具有 0 或 1 值的二分类变量，并且大约 38% 的样本存活，代表实际存活率38%；\n",
    "- 大多数乘客（>50%)的票价等级是三等票；\n",
    "- 年龄在 65-80 岁之间的老年乘客很少 (<1%)；\n",
    "- 近 30% 的乘客有兄弟姐妹或配偶一同登机；\n",
    "- 大多数乘客 (>75%) 没有与父母或孩子一起旅行；\n",
    "- 票价差异很大，少数乘客 (<1%) 支付高达 512 美元。"
   ]
  },
  {
   "cell_type": "code",
   "execution_count": 9,
   "id": "589b7361",
   "metadata": {
    "execution": {
     "iopub.execute_input": "2024-09-13T08:05:36.532709Z",
     "iopub.status.busy": "2024-09-13T08:05:36.532203Z",
     "iopub.status.idle": "2024-09-13T08:05:36.558655Z",
     "shell.execute_reply": "2024-09-13T08:05:36.557411Z",
     "shell.execute_reply.started": "2024-09-13T08:05:36.532653Z"
    }
   },
   "outputs": [
    {
     "data": {
      "text/html": [
       "<div>\n",
       "<style scoped>\n",
       "    .dataframe tbody tr th:only-of-type {\n",
       "        vertical-align: middle;\n",
       "    }\n",
       "\n",
       "    .dataframe tbody tr th {\n",
       "        vertical-align: top;\n",
       "    }\n",
       "\n",
       "    .dataframe thead th {\n",
       "        text-align: right;\n",
       "    }\n",
       "</style>\n",
       "<table border=\"1\" class=\"dataframe\">\n",
       "  <thead>\n",
       "    <tr style=\"text-align: right;\">\n",
       "      <th></th>\n",
       "      <th>Name</th>\n",
       "      <th>Sex</th>\n",
       "      <th>Ticket</th>\n",
       "      <th>Cabin</th>\n",
       "      <th>Embarked</th>\n",
       "    </tr>\n",
       "  </thead>\n",
       "  <tbody>\n",
       "    <tr>\n",
       "      <th>count</th>\n",
       "      <td>891</td>\n",
       "      <td>891</td>\n",
       "      <td>891</td>\n",
       "      <td>204</td>\n",
       "      <td>889</td>\n",
       "    </tr>\n",
       "    <tr>\n",
       "      <th>unique</th>\n",
       "      <td>891</td>\n",
       "      <td>2</td>\n",
       "      <td>681</td>\n",
       "      <td>147</td>\n",
       "      <td>3</td>\n",
       "    </tr>\n",
       "    <tr>\n",
       "      <th>top</th>\n",
       "      <td>Braund, Mr. Owen Harris</td>\n",
       "      <td>male</td>\n",
       "      <td>347082</td>\n",
       "      <td>B96 B98</td>\n",
       "      <td>S</td>\n",
       "    </tr>\n",
       "    <tr>\n",
       "      <th>freq</th>\n",
       "      <td>1</td>\n",
       "      <td>577</td>\n",
       "      <td>7</td>\n",
       "      <td>4</td>\n",
       "      <td>644</td>\n",
       "    </tr>\n",
       "  </tbody>\n",
       "</table>\n",
       "</div>"
      ],
      "text/plain": [
       "                           Name   Sex  Ticket    Cabin Embarked\n",
       "count                       891   891     891      204      889\n",
       "unique                      891     2     681      147        3\n",
       "top     Braund, Mr. Owen Harris  male  347082  B96 B98        S\n",
       "freq                          1   577       7        4      644"
      ]
     },
     "execution_count": 9,
     "metadata": {},
     "output_type": "execute_result"
    }
   ],
   "source": [
    "train_df.describe(include=['O'])"
   ]
  },
  {
   "cell_type": "markdown",
   "id": "acbe9555",
   "metadata": {},
   "source": [
    "**样本中分类特征的分布是什么？**\n",
    "- 名称在数据集中是唯一的（count=unique=891）；\n",
    "- 性别变量有两个可能的值，男性占 65%（top=male，freq=577/891）;\n",
    "- 票号具有高比例 (22%) 的重复值 (unique=681)；\n",
    "- 客舱号在样本中也具有较多重复项，说明存在几名乘客共用一个小舱的现象；\n",
    "- 登船港口有三个可能的值，大多数乘客是S口。"
   ]
  },
  {
   "cell_type": "markdown",
   "id": "ccd4f949",
   "metadata": {},
   "source": [
    "### （4）基于数据分析的假设"
   ]
  },
  {
   "cell_type": "markdown",
   "id": "5cce72b2",
   "metadata": {},
   "source": [
    "**我们想知道每个特征与幸存Survived的相关性如何，以便后期建模。事先可以假设：**\n",
    "- Age 年龄特征肯定与幸存相关;\n",
    "- Embarked 登船港口可能与幸存或其他重要特征相关；\n",
    "- Ticket 票号包含较高重复率(22%)，并且和幸存之间可能没有相关性，因此可能会从我们的分析中删除；\n",
    "- Cabin 客舱号可能被丢弃，因为它在训练和测试集中缺失值过多（数据高度不完整）；\n",
    "- PassengerId 乘客编号可能会从训练数据集中删除，因为它对幸存没有作用；\n",
    "- Name 名字特征比较不规范，可能也对幸存没有直接贡献，因此可能会被丢弃。"
   ]
  },
  {
   "cell_type": "code",
   "execution_count": 10,
   "id": "9d2c2b50",
   "metadata": {
    "execution": {
     "iopub.execute_input": "2024-09-13T08:05:36.561168Z",
     "iopub.status.busy": "2024-09-13T08:05:36.560658Z",
     "iopub.status.idle": "2024-09-13T08:05:36.580343Z",
     "shell.execute_reply": "2024-09-13T08:05:36.578796Z",
     "shell.execute_reply.started": "2024-09-13T08:05:36.561115Z"
    }
   },
   "outputs": [
    {
     "data": {
      "text/html": [
       "<div>\n",
       "<style scoped>\n",
       "    .dataframe tbody tr th:only-of-type {\n",
       "        vertical-align: middle;\n",
       "    }\n",
       "\n",
       "    .dataframe tbody tr th {\n",
       "        vertical-align: top;\n",
       "    }\n",
       "\n",
       "    .dataframe thead th {\n",
       "        text-align: right;\n",
       "    }\n",
       "</style>\n",
       "<table border=\"1\" class=\"dataframe\">\n",
       "  <thead>\n",
       "    <tr style=\"text-align: right;\">\n",
       "      <th></th>\n",
       "      <th>Pclass</th>\n",
       "      <th>Survived</th>\n",
       "    </tr>\n",
       "  </thead>\n",
       "  <tbody>\n",
       "    <tr>\n",
       "      <th>0</th>\n",
       "      <td>1</td>\n",
       "      <td>0.629630</td>\n",
       "    </tr>\n",
       "    <tr>\n",
       "      <th>1</th>\n",
       "      <td>2</td>\n",
       "      <td>0.472826</td>\n",
       "    </tr>\n",
       "    <tr>\n",
       "      <th>2</th>\n",
       "      <td>3</td>\n",
       "      <td>0.242363</td>\n",
       "    </tr>\n",
       "  </tbody>\n",
       "</table>\n",
       "</div>"
      ],
      "text/plain": [
       "   Pclass  Survived\n",
       "0       1  0.629630\n",
       "1       2  0.472826\n",
       "2       3  0.242363"
      ]
     },
     "execution_count": 10,
     "metadata": {},
     "output_type": "execute_result"
    }
   ],
   "source": [
    "# 针对Pclass和Survived进行分类汇总\n",
    "# 船舱等级\n",
    "train_df[['Pclass','Survived']].groupby(['Pclass'], as_index=False).mean().sort_values(by='Survived', ascending=False)\n",
    "# pd.DataFrame(train_df.groupby('Pclass', as_index=False)['Survived'].mean()).sort_values(by='Survived', ascending=False)"
   ]
  },
  {
   "cell_type": "code",
   "execution_count": 11,
   "id": "4e095ae2",
   "metadata": {
    "execution": {
     "iopub.execute_input": "2024-09-13T08:05:36.583315Z",
     "iopub.status.busy": "2024-09-13T08:05:36.582286Z",
     "iopub.status.idle": "2024-09-13T08:05:36.609407Z",
     "shell.execute_reply": "2024-09-13T08:05:36.607896Z",
     "shell.execute_reply.started": "2024-09-13T08:05:36.583253Z"
    },
    "scrolled": true
   },
   "outputs": [
    {
     "data": {
      "text/html": [
       "<div>\n",
       "<style scoped>\n",
       "    .dataframe tbody tr th:only-of-type {\n",
       "        vertical-align: middle;\n",
       "    }\n",
       "\n",
       "    .dataframe tbody tr th {\n",
       "        vertical-align: top;\n",
       "    }\n",
       "\n",
       "    .dataframe thead th {\n",
       "        text-align: right;\n",
       "    }\n",
       "</style>\n",
       "<table border=\"1\" class=\"dataframe\">\n",
       "  <thead>\n",
       "    <tr style=\"text-align: right;\">\n",
       "      <th></th>\n",
       "      <th>Sex</th>\n",
       "      <th>Survived</th>\n",
       "    </tr>\n",
       "  </thead>\n",
       "  <tbody>\n",
       "    <tr>\n",
       "      <th>0</th>\n",
       "      <td>female</td>\n",
       "      <td>0.742038</td>\n",
       "    </tr>\n",
       "    <tr>\n",
       "      <th>1</th>\n",
       "      <td>male</td>\n",
       "      <td>0.188908</td>\n",
       "    </tr>\n",
       "  </tbody>\n",
       "</table>\n",
       "</div>"
      ],
      "text/plain": [
       "      Sex  Survived\n",
       "0  female  0.742038\n",
       "1    male  0.188908"
      ]
     },
     "execution_count": 11,
     "metadata": {},
     "output_type": "execute_result"
    }
   ],
   "source": [
    "# 性别\n",
    "train_df[['Sex','Survived']].groupby(['Sex'], as_index=False).mean().sort_values(by='Survived', ascending=False)"
   ]
  },
  {
   "cell_type": "code",
   "execution_count": 12,
   "id": "11e71c3f",
   "metadata": {
    "execution": {
     "iopub.execute_input": "2024-09-13T08:05:36.612457Z",
     "iopub.status.busy": "2024-09-13T08:05:36.611382Z",
     "iopub.status.idle": "2024-09-13T08:05:36.632695Z",
     "shell.execute_reply": "2024-09-13T08:05:36.631416Z",
     "shell.execute_reply.started": "2024-09-13T08:05:36.612317Z"
    }
   },
   "outputs": [
    {
     "data": {
      "text/html": [
       "<div>\n",
       "<style scoped>\n",
       "    .dataframe tbody tr th:only-of-type {\n",
       "        vertical-align: middle;\n",
       "    }\n",
       "\n",
       "    .dataframe tbody tr th {\n",
       "        vertical-align: top;\n",
       "    }\n",
       "\n",
       "    .dataframe thead th {\n",
       "        text-align: right;\n",
       "    }\n",
       "</style>\n",
       "<table border=\"1\" class=\"dataframe\">\n",
       "  <thead>\n",
       "    <tr style=\"text-align: right;\">\n",
       "      <th></th>\n",
       "      <th>SibSp</th>\n",
       "      <th>Survived</th>\n",
       "    </tr>\n",
       "  </thead>\n",
       "  <tbody>\n",
       "    <tr>\n",
       "      <th>1</th>\n",
       "      <td>1</td>\n",
       "      <td>0.535885</td>\n",
       "    </tr>\n",
       "    <tr>\n",
       "      <th>2</th>\n",
       "      <td>2</td>\n",
       "      <td>0.464286</td>\n",
       "    </tr>\n",
       "    <tr>\n",
       "      <th>0</th>\n",
       "      <td>0</td>\n",
       "      <td>0.345395</td>\n",
       "    </tr>\n",
       "    <tr>\n",
       "      <th>3</th>\n",
       "      <td>3</td>\n",
       "      <td>0.250000</td>\n",
       "    </tr>\n",
       "    <tr>\n",
       "      <th>4</th>\n",
       "      <td>4</td>\n",
       "      <td>0.166667</td>\n",
       "    </tr>\n",
       "    <tr>\n",
       "      <th>5</th>\n",
       "      <td>5</td>\n",
       "      <td>0.000000</td>\n",
       "    </tr>\n",
       "    <tr>\n",
       "      <th>6</th>\n",
       "      <td>8</td>\n",
       "      <td>0.000000</td>\n",
       "    </tr>\n",
       "  </tbody>\n",
       "</table>\n",
       "</div>"
      ],
      "text/plain": [
       "   SibSp  Survived\n",
       "1      1  0.535885\n",
       "2      2  0.464286\n",
       "0      0  0.345395\n",
       "3      3  0.250000\n",
       "4      4  0.166667\n",
       "5      5  0.000000\n",
       "6      8  0.000000"
      ]
     },
     "execution_count": 12,
     "metadata": {},
     "output_type": "execute_result"
    }
   ],
   "source": [
    "# 同辈\n",
    "train_df[['SibSp','Survived']].groupby(['SibSp'], as_index=False).mean().sort_values(by='Survived',ascending=False)"
   ]
  },
  {
   "cell_type": "code",
   "execution_count": 13,
   "id": "9629a449",
   "metadata": {
    "execution": {
     "iopub.execute_input": "2024-09-13T08:05:36.636660Z",
     "iopub.status.busy": "2024-09-13T08:05:36.634806Z",
     "iopub.status.idle": "2024-09-13T08:05:36.660392Z",
     "shell.execute_reply": "2024-09-13T08:05:36.659316Z",
     "shell.execute_reply.started": "2024-09-13T08:05:36.636594Z"
    }
   },
   "outputs": [
    {
     "data": {
      "text/html": [
       "<div>\n",
       "<style scoped>\n",
       "    .dataframe tbody tr th:only-of-type {\n",
       "        vertical-align: middle;\n",
       "    }\n",
       "\n",
       "    .dataframe tbody tr th {\n",
       "        vertical-align: top;\n",
       "    }\n",
       "\n",
       "    .dataframe thead th {\n",
       "        text-align: right;\n",
       "    }\n",
       "</style>\n",
       "<table border=\"1\" class=\"dataframe\">\n",
       "  <thead>\n",
       "    <tr style=\"text-align: right;\">\n",
       "      <th></th>\n",
       "      <th>Parch</th>\n",
       "      <th>Survived</th>\n",
       "    </tr>\n",
       "  </thead>\n",
       "  <tbody>\n",
       "    <tr>\n",
       "      <th>3</th>\n",
       "      <td>3</td>\n",
       "      <td>0.600000</td>\n",
       "    </tr>\n",
       "    <tr>\n",
       "      <th>1</th>\n",
       "      <td>1</td>\n",
       "      <td>0.550847</td>\n",
       "    </tr>\n",
       "    <tr>\n",
       "      <th>2</th>\n",
       "      <td>2</td>\n",
       "      <td>0.500000</td>\n",
       "    </tr>\n",
       "    <tr>\n",
       "      <th>0</th>\n",
       "      <td>0</td>\n",
       "      <td>0.343658</td>\n",
       "    </tr>\n",
       "    <tr>\n",
       "      <th>5</th>\n",
       "      <td>5</td>\n",
       "      <td>0.200000</td>\n",
       "    </tr>\n",
       "    <tr>\n",
       "      <th>4</th>\n",
       "      <td>4</td>\n",
       "      <td>0.000000</td>\n",
       "    </tr>\n",
       "    <tr>\n",
       "      <th>6</th>\n",
       "      <td>6</td>\n",
       "      <td>0.000000</td>\n",
       "    </tr>\n",
       "  </tbody>\n",
       "</table>\n",
       "</div>"
      ],
      "text/plain": [
       "   Parch  Survived\n",
       "3      3  0.600000\n",
       "1      1  0.550847\n",
       "2      2  0.500000\n",
       "0      0  0.343658\n",
       "5      5  0.200000\n",
       "4      4  0.000000\n",
       "6      6  0.000000"
      ]
     },
     "execution_count": 13,
     "metadata": {},
     "output_type": "execute_result"
    }
   ],
   "source": [
    "# 父母与子女\n",
    "train_df[['Parch','Survived']].groupby(['Parch'], as_index=False).mean().sort_values(by='Survived',ascending=False)"
   ]
  },
  {
   "cell_type": "markdown",
   "id": "041d379e",
   "metadata": {},
   "source": [
    "**通过特征进行分析**\n",
    "- **Pclass** 观察到 Pclass=1 和 Survived 之间有显著的相关性（>0.5），因此在模型中应包含此特征；\n",
    "- **Sex** 女性的存活率非常高达 74%，因此在模型中应包含性别特征;\n",
    "- **SibSp 和 Parch** 这两个特征对于某些值与Survived具有零相关性，最好从这些单独的特征中派生一个特征或一组特征，使得与Survived有显著相关性。"
   ]
  },
  {
   "cell_type": "markdown",
   "id": "533c8fe5",
   "metadata": {},
   "source": [
    "### （5）可视化数据分析\n",
    "**分析数值特征 Age 与 Survived 相关性**\n",
    "\n",
    "首先了解数值特征Age与我们的解决方案目标（Survived）之间的相关性。直方图对于分析连续数值变量很有用。\n"
   ]
  },
  {
   "cell_type": "code",
   "execution_count": 14,
   "id": "3dc01fec",
   "metadata": {
    "execution": {
     "iopub.execute_input": "2024-09-13T08:05:36.670731Z",
     "iopub.status.busy": "2024-09-13T08:05:36.669796Z",
     "iopub.status.idle": "2024-09-13T08:05:37.542622Z",
     "shell.execute_reply": "2024-09-13T08:05:37.541308Z",
     "shell.execute_reply.started": "2024-09-13T08:05:36.670673Z"
    }
   },
   "outputs": [
    {
     "data": {
      "text/plain": [
       "<seaborn.axisgrid.FacetGrid at 0x1da76ec39a0>"
      ]
     },
     "execution_count": 14,
     "metadata": {},
     "output_type": "execute_result"
    },
    {
     "data": {
      "image/png": "[encoded data removed]",
      "text/plain": [
       "<Figure size 600x300 with 2 Axes>"
      ]
     },
     "metadata": {},
     "output_type": "display_data"
    }
   ],
   "source": [
    "g = sns.FacetGrid(train_df, col='Survived')  #FacetGrid(data, row, col, hue, height, aspect, palette, ...)\n",
    "g.map(plt.hist, 'Age', bins=20)"
   ]
  },
  {
   "cell_type": "markdown",
   "id": "e9e742d1",
   "metadata": {},
   "source": [
    "- 婴儿（年龄<=4）的存活率很高；\n",
    "- 最年长的乘客（年龄 = 80）幸存下来；\n",
    "- 大部分15-25 岁的人无法生存；\n",
    "- 大多数乘客的年龄在 15-35 岁之间。\n",
    "\n",
    "这个简单的分析证实了后续工作我们应该：\n",
    "- 在模型训练中考虑年龄特征 Age；\n",
    "- 完成年龄特征的缺失值处理；\n",
    "- 捆绑年龄组。 "
   ]
  },
  {
   "cell_type": "markdown",
   "id": "1547a302",
   "metadata": {},
   "source": [
    "**分析有序分类特征 Pclass 与 Survived 相关性**\n"
   ]
  },
  {
   "cell_type": "code",
   "execution_count": 15,
   "id": "57dbebf8",
   "metadata": {
    "execution": {
     "iopub.execute_input": "2024-09-13T08:06:29.103470Z",
     "iopub.status.busy": "2024-09-13T08:06:29.102895Z",
     "iopub.status.idle": "2024-09-13T08:06:30.638492Z",
     "shell.execute_reply": "2024-09-13T08:06:30.636951Z",
     "shell.execute_reply.started": "2024-09-13T08:06:29.103415Z"
    },
    "scrolled": false
   },
   "outputs": [
    {
     "data": {
      "image/png": "[encoded data removed]",
      "text/plain": [
       "<Figure size 972.111x300 with 3 Axes>"
      ]
     },
     "metadata": {},
     "output_type": "display_data"
    }
   ],
   "source": [
    "#grid = sns.FacetGrid(train_df, col='Survived', row='Pclass', size=2.5, aspect=1.6)\n",
    "grid = sns.FacetGrid(train_df, col='Pclass', hue='Survived') \n",
    "grid.map(plt.hist, 'Age', alpha=0.5, bins=20)\n",
    "grid.add_legend();"
   ]
  },
  {
   "cell_type": "markdown",
   "id": "960e91f6",
   "metadata": {},
   "source": [
    "**分析有序分类特征 Pclass 与 Survived 相关性**\n",
    "- Pclass=3 有大多数乘客，但大多数没有幸存；\n",
    "- Pclass=2 和 Pclass=3 的婴儿乘客大多幸存下来；\n",
    "- Pclass=1 中的大多数乘客幸存下来；\n",
    "- Pclass 因乘客年龄分布而异。\n",
    "\n",
    "综上分析，应该将Pclass纳入模型训练之中。"
   ]
  },
  {
   "cell_type": "markdown",
   "id": "0dd60caa",
   "metadata": {},
   "source": [
    "**分析无序分类特征 Embarked 与 Survived 相关性**"
   ]
  },
  {
   "cell_type": "code",
   "execution_count": 16,
   "id": "77ab13be",
   "metadata": {
    "scrolled": true
   },
   "outputs": [
    {
     "data": {
      "image/png": "[encoded data removed]",
      "text/plain": [
       "<Figure size 998x300 with 3 Axes>"
      ]
     },
     "metadata": {},
     "output_type": "display_data"
    }
   ],
   "source": [
    "grid = sns.FacetGrid(train_df, col='Embarked')\n",
    "grid.map(sns.pointplot, 'Pclass', 'Survived', 'Sex', palette='deep')\n",
    "grid.add_legend();"
   ]
  },
  {
   "cell_type": "markdown",
   "id": "ea00d996",
   "metadata": {},
   "source": [
    "**分析无序分类特征 Embarked 与 Survived 相关性**\n",
    "- Embarked=S 和 Q 中，女性乘客的存活率远高于男性；Embarked=C 中，男性的存活率较高。这可能是 Embarked 和 Sex 相关，而 Sex 和 Survived 相关，进而造成Embarked与Survived间接相关；\n",
    "- 对于同一票价等级和同一性别，不同登船港口的存活率不同。\n",
    "\n",
    "综上分析，在模型训练中应该：添加 Sex 和 Embarked 特征。 "
   ]
  },
  {
   "cell_type": "markdown",
   "id": "df347260",
   "metadata": {},
   "source": [
    "**分析数值特征 Fare 与 Survived 相关性**\n",
    "\n"
   ]
  },
  {
   "cell_type": "code",
   "execution_count": 17,
   "id": "9cbfc5e8",
   "metadata": {
    "execution": {
     "iopub.execute_input": "2024-09-13T08:05:38.958605Z",
     "iopub.status.busy": "2024-09-13T08:05:38.958141Z",
     "iopub.status.idle": "2024-09-13T08:05:39.949884Z",
     "shell.execute_reply": "2024-09-13T08:05:39.948749Z",
     "shell.execute_reply.started": "2024-09-13T08:05:38.958562Z"
    },
    "scrolled": true
   },
   "outputs": [
    {
     "data": {
      "text/plain": [
       "<seaborn.axisgrid.FacetGrid at 0x1da7985fdf0>"
      ]
     },
     "execution_count": 17,
     "metadata": {},
     "output_type": "execute_result"
    },
    {
     "data": {
      "image/png": "[encoded data removed]",
      "text/plain": [
       "<Figure size 972.111x300 with 3 Axes>"
      ]
     },
     "metadata": {},
     "output_type": "display_data"
    }
   ],
   "source": [
    "grid = sns.FacetGrid(train_df, col='Embarked', hue='Survived', palette={0: 'b', 1: 'r'})\n",
    "grid.map(sns.barplot, 'Sex', 'Fare', alpha=.5, ci=None)\n",
    "grid.add_legend()"
   ]
  },
  {
   "cell_type": "markdown",
   "id": "7a3570ca",
   "metadata": {},
   "source": [
    "\n",
    "\n",
    "将分类特征（具有非数值）和数字特征相关联，可以考虑将 Embarked（分类非数值）、Fare（连续数值）与 Survived（二分类数值）相关联。\n",
    "\n",
    "- 支付更高票价的乘客能够更好地幸存，并且幸存率具有较明显的票价区间性；\n",
    "- 不同的登船港口有不同的存活率。\n",
    "\n",
    "因此，应该考虑捆绑票价特征Fare，并纳入模型训练中。 "
   ]
  },
  {
   "cell_type": "code",
   "execution_count": 18,
   "id": "f335358f",
   "metadata": {},
   "outputs": [
    {
     "data": {
      "text/plain": [
       "Text(0.5, 1.0, 'Box Plot of Fares')"
      ]
     },
     "execution_count": 18,
     "metadata": {},
     "output_type": "execute_result"
    },
    {
     "data": {
      "image/png": "[encoded data removed]",
      "text/plain": [
       "<Figure size 640x480 with 1 Axes>"
      ]
     },
     "metadata": {},
     "output_type": "display_data"
    }
   ],
   "source": [
    "train_df['Fare'].plot(kind='box')\n",
    "plt.title('Box Plot of Fares')"
   ]
  },
  {
   "cell_type": "code",
   "execution_count": null,
   "id": "e2de12c9",
   "metadata": {},
   "outputs": [],
   "source": []
  },
  {
   "cell_type": "markdown",
   "id": "5bb027b9",
   "metadata": {},
   "source": [
    "### （6）整理、清洗数据\n"
   ]
  },
  {
   "cell_type": "markdown",
   "id": "1b72dcfc",
   "metadata": {},
   "source": [
    "**删除无用特征 Ticket 和 Cabin**\n",
    "\n",
    "注意一起删除训练集和测试集合的无用特征"
   ]
  },
  {
   "cell_type": "code",
   "execution_count": 19,
   "id": "3ff337da",
   "metadata": {
    "execution": {
     "iopub.execute_input": "2024-09-13T08:05:39.952127Z",
     "iopub.status.busy": "2024-09-13T08:05:39.951747Z",
     "iopub.status.idle": "2024-09-13T08:05:39.964817Z",
     "shell.execute_reply": "2024-09-13T08:05:39.963215Z",
     "shell.execute_reply.started": "2024-09-13T08:05:39.952087Z"
    },
    "scrolled": true
   },
   "outputs": [
    {
     "name": "stdout",
     "output_type": "stream",
     "text": [
      "Before (891, 12) (418, 11) (891, 12) (418, 11)\n"
     ]
    },
    {
     "data": {
      "text/plain": [
       "('After', (891, 10), (418, 9), (891, 10), (418, 9))"
      ]
     },
     "execution_count": 19,
     "metadata": {},
     "output_type": "execute_result"
    }
   ],
   "source": [
    "print(\"Before\", train_df.shape, test_df.shape, combine[0].shape, combine[1].shape)\n",
    "\n",
    "train_df = train_df.drop(['Ticket', 'Cabin'], axis=1)\n",
    "test_df = test_df.drop(['Ticket', 'Cabin'], axis=1)\n",
    "combine = [train_df, test_df]\n",
    "\n",
    "\"After\", train_df.shape, test_df.shape, combine[0].shape, combine[1].shape"
   ]
  },
  {
   "cell_type": "markdown",
   "id": "fef1cb10",
   "metadata": {},
   "source": [
    "**从现有特征中提取新特征**\n",
    "\n",
    "在删除 Name 和 PassengerId 特征之前，分析是否可以设计 Name 特征来提取头衔Title，并测试Title和Survived之间的相关性；\n",
    "\n",
    "使用正则表达式提取Title特征。正则表达式`(\\w+\\.) `匹配 Name 特征中以点字符结尾的第一个单词，expand=False返回一个 DataFrame。\n",
    "\n",
    "当绘制 Title、Age 和 Survived 时，注意到以下观察结果：\n",
    "\n",
    "- 大多数标题准确地划分了年龄组。 例如：Master Title 的平均 Age 是5岁，某些头衔大多幸存下来（Mme、Lady、Sir）或没有幸存下来（Don、Rev、Jonkheer）。\n",
    "\n",
    "因此，决定保留新的 Title 特征用于模型训练。 "
   ]
  },
  {
   "cell_type": "code",
   "execution_count": 20,
   "id": "b8ebf75f",
   "metadata": {
    "execution": {
     "iopub.execute_input": "2024-09-13T08:05:39.967053Z",
     "iopub.status.busy": "2024-09-13T08:05:39.966535Z",
     "iopub.status.idle": "2024-09-13T08:05:39.978851Z",
     "shell.execute_reply": "2024-09-13T08:05:39.977684Z",
     "shell.execute_reply.started": "2024-09-13T08:05:39.967000Z"
    }
   },
   "outputs": [
    {
     "data": {
      "text/plain": [
       "0                              Braund, Mr. Owen Harris\n",
       "1    Cumings, Mrs. John Bradley (Florence Briggs Th...\n",
       "2                               Heikkinen, Miss. Laina\n",
       "3         Futrelle, Mrs. Jacques Heath (Lily May Peel)\n",
       "4                             Allen, Mr. William Henry\n",
       "5                                     Moran, Mr. James\n",
       "6                              McCarthy, Mr. Timothy J\n",
       "7                       Palsson, Master. Gosta Leonard\n",
       "8    Johnson, Mrs. Oscar W (Elisabeth Vilhelmina Berg)\n",
       "9                  Nasser, Mrs. Nicholas (Adele Achem)\n",
       "Name: Name, dtype: object"
      ]
     },
     "execution_count": 20,
     "metadata": {},
     "output_type": "execute_result"
    }
   ],
   "source": [
    "train_df['Name'].head(10)"
   ]
  },
  {
   "cell_type": "code",
   "execution_count": 21,
   "id": "bf43bf3b",
   "metadata": {
    "execution": {
     "iopub.execute_input": "2024-09-13T08:05:39.980785Z",
     "iopub.status.busy": "2024-09-13T08:05:39.980288Z",
     "iopub.status.idle": "2024-09-13T08:05:40.018675Z",
     "shell.execute_reply": "2024-09-13T08:05:40.017477Z",
     "shell.execute_reply.started": "2024-09-13T08:05:39.980724Z"
    }
   },
   "outputs": [
    {
     "data": {
      "text/html": [
       "<div>\n",
       "<style scoped>\n",
       "    .dataframe tbody tr th:only-of-type {\n",
       "        vertical-align: middle;\n",
       "    }\n",
       "\n",
       "    .dataframe tbody tr th {\n",
       "        vertical-align: top;\n",
       "    }\n",
       "\n",
       "    .dataframe thead th {\n",
       "        text-align: right;\n",
       "    }\n",
       "</style>\n",
       "<table border=\"1\" class=\"dataframe\">\n",
       "  <thead>\n",
       "    <tr style=\"text-align: right;\">\n",
       "      <th>Sex</th>\n",
       "      <th>female</th>\n",
       "      <th>male</th>\n",
       "    </tr>\n",
       "    <tr>\n",
       "      <th>Title</th>\n",
       "      <th></th>\n",
       "      <th></th>\n",
       "    </tr>\n",
       "  </thead>\n",
       "  <tbody>\n",
       "    <tr>\n",
       "      <th>Miss</th>\n",
       "      <td>182</td>\n",
       "      <td>0</td>\n",
       "    </tr>\n",
       "    <tr>\n",
       "      <th>Mrs</th>\n",
       "      <td>125</td>\n",
       "      <td>0</td>\n",
       "    </tr>\n",
       "    <tr>\n",
       "      <th>Mlle</th>\n",
       "      <td>2</td>\n",
       "      <td>0</td>\n",
       "    </tr>\n",
       "    <tr>\n",
       "      <th>Mme</th>\n",
       "      <td>1</td>\n",
       "      <td>0</td>\n",
       "    </tr>\n",
       "    <tr>\n",
       "      <th>Countess</th>\n",
       "      <td>1</td>\n",
       "      <td>0</td>\n",
       "    </tr>\n",
       "    <tr>\n",
       "      <th>Dr</th>\n",
       "      <td>1</td>\n",
       "      <td>6</td>\n",
       "    </tr>\n",
       "    <tr>\n",
       "      <th>Ms</th>\n",
       "      <td>1</td>\n",
       "      <td>0</td>\n",
       "    </tr>\n",
       "    <tr>\n",
       "      <th>Lady</th>\n",
       "      <td>1</td>\n",
       "      <td>0</td>\n",
       "    </tr>\n",
       "    <tr>\n",
       "      <th>Capt</th>\n",
       "      <td>0</td>\n",
       "      <td>1</td>\n",
       "    </tr>\n",
       "    <tr>\n",
       "      <th>Rev</th>\n",
       "      <td>0</td>\n",
       "      <td>6</td>\n",
       "    </tr>\n",
       "    <tr>\n",
       "      <th>Mr</th>\n",
       "      <td>0</td>\n",
       "      <td>517</td>\n",
       "    </tr>\n",
       "    <tr>\n",
       "      <th>Master</th>\n",
       "      <td>0</td>\n",
       "      <td>40</td>\n",
       "    </tr>\n",
       "    <tr>\n",
       "      <th>Col</th>\n",
       "      <td>0</td>\n",
       "      <td>2</td>\n",
       "    </tr>\n",
       "    <tr>\n",
       "      <th>Major</th>\n",
       "      <td>0</td>\n",
       "      <td>2</td>\n",
       "    </tr>\n",
       "    <tr>\n",
       "      <th>Jonkheer</th>\n",
       "      <td>0</td>\n",
       "      <td>1</td>\n",
       "    </tr>\n",
       "    <tr>\n",
       "      <th>Don</th>\n",
       "      <td>0</td>\n",
       "      <td>1</td>\n",
       "    </tr>\n",
       "    <tr>\n",
       "      <th>Sir</th>\n",
       "      <td>0</td>\n",
       "      <td>1</td>\n",
       "    </tr>\n",
       "  </tbody>\n",
       "</table>\n",
       "</div>"
      ],
      "text/plain": [
       "Sex       female  male\n",
       "Title                 \n",
       "Miss         182     0\n",
       "Mrs          125     0\n",
       "Mlle           2     0\n",
       "Mme            1     0\n",
       "Countess       1     0\n",
       "Dr             1     6\n",
       "Ms             1     0\n",
       "Lady           1     0\n",
       "Capt           0     1\n",
       "Rev            0     6\n",
       "Mr             0   517\n",
       "Master         0    40\n",
       "Col            0     2\n",
       "Major          0     2\n",
       "Jonkheer       0     1\n",
       "Don            0     1\n",
       "Sir            0     1"
      ]
     },
     "execution_count": 21,
     "metadata": {},
     "output_type": "execute_result"
    }
   ],
   "source": [
    "# 使用正则表达式提取Title特征\n",
    "for dataset in combine:\n",
    "    dataset['Title'] = dataset.Name.str.extract('([A-Za-z]+)\\.', expand=False)\n",
    "\n",
    "pd.crosstab(train_df['Title'], train_df['Sex']).sort_values(by='female', ascending=False)  # pd.crosstab列联表"
   ]
  },
  {
   "cell_type": "code",
   "execution_count": 22,
   "id": "5232ebf6",
   "metadata": {
    "execution": {
     "iopub.execute_input": "2024-09-13T08:05:40.020922Z",
     "iopub.status.busy": "2024-09-13T08:05:40.020403Z",
     "iopub.status.idle": "2024-09-13T08:05:48.666762Z",
     "shell.execute_reply": "2024-09-13T08:05:48.665075Z",
     "shell.execute_reply.started": "2024-09-13T08:05:40.020866Z"
    }
   },
   "outputs": [
    {
     "data": {
      "text/plain": [
       "<seaborn.axisgrid.FacetGrid at 0x1da76e7c640>"
      ]
     },
     "execution_count": 22,
     "metadata": {},
     "output_type": "execute_result"
    },
    {
     "data": {
      "image/png": "[encoded data removed]",
      "text/plain": [
       "<Figure size 1512.11x1800 with 17 Axes>"
      ]
     },
     "metadata": {},
     "output_type": "display_data"
    }
   ],
   "source": [
    "grid = sns.FacetGrid(train_df,  col='Title', hue='Survived', col_wrap=3,  aspect=1.6)\n",
    "#grid = sns.FacetGrid(train_df, col='Title', hue='Survived') \n",
    "grid.map(plt.hist, 'Age', alpha=0.5, bins=20)\n",
    "grid.add_legend()"
   ]
  },
  {
   "cell_type": "code",
   "execution_count": 23,
   "id": "f9da9dc5",
   "metadata": {
    "execution": {
     "iopub.execute_input": "2024-09-13T08:05:48.669065Z",
     "iopub.status.busy": "2024-09-13T08:05:48.668574Z",
     "iopub.status.idle": "2024-09-13T08:05:48.701575Z",
     "shell.execute_reply": "2024-09-13T08:05:48.700073Z",
     "shell.execute_reply.started": "2024-09-13T08:05:48.669020Z"
    }
   },
   "outputs": [
    {
     "data": {
      "text/html": [
       "<div>\n",
       "<style scoped>\n",
       "    .dataframe tbody tr th:only-of-type {\n",
       "        vertical-align: middle;\n",
       "    }\n",
       "\n",
       "    .dataframe tbody tr th {\n",
       "        vertical-align: top;\n",
       "    }\n",
       "\n",
       "    .dataframe thead th {\n",
       "        text-align: right;\n",
       "    }\n",
       "</style>\n",
       "<table border=\"1\" class=\"dataframe\">\n",
       "  <thead>\n",
       "    <tr style=\"text-align: right;\">\n",
       "      <th></th>\n",
       "      <th>Title</th>\n",
       "      <th>Survived</th>\n",
       "    </tr>\n",
       "  </thead>\n",
       "  <tbody>\n",
       "    <tr>\n",
       "      <th>0</th>\n",
       "      <td>Master</td>\n",
       "      <td>0.575000</td>\n",
       "    </tr>\n",
       "    <tr>\n",
       "      <th>1</th>\n",
       "      <td>Miss</td>\n",
       "      <td>0.702703</td>\n",
       "    </tr>\n",
       "    <tr>\n",
       "      <th>2</th>\n",
       "      <td>Mr</td>\n",
       "      <td>0.156673</td>\n",
       "    </tr>\n",
       "    <tr>\n",
       "      <th>3</th>\n",
       "      <td>Mrs</td>\n",
       "      <td>0.793651</td>\n",
       "    </tr>\n",
       "    <tr>\n",
       "      <th>4</th>\n",
       "      <td>Rare</td>\n",
       "      <td>0.347826</td>\n",
       "    </tr>\n",
       "  </tbody>\n",
       "</table>\n",
       "</div>"
      ],
      "text/plain": [
       "    Title  Survived\n",
       "0  Master  0.575000\n",
       "1    Miss  0.702703\n",
       "2      Mr  0.156673\n",
       "3     Mrs  0.793651\n",
       "4    Rare  0.347826"
      ]
     },
     "execution_count": 23,
     "metadata": {},
     "output_type": "execute_result"
    }
   ],
   "source": [
    "# 可以用更常见的名称替换许多标题或将它们归类为稀有\n",
    "for dataset in combine:\n",
    "    dataset['Title'] = dataset['Title'].replace(['Lady', 'Countess','Capt', 'Col',\n",
    "                                                 'Don', 'Dr', 'Major', 'Rev', 'Sir', 'Jonkheer', 'Dona'], 'Rare')\n",
    "\n",
    "    dataset['Title'] = dataset['Title'].replace(['Mlle', 'Ms'], 'Miss')\n",
    "    dataset['Title'] = dataset['Title'].replace('Mme', 'Mrs')\n",
    "    \n",
    "train_df[['Title', 'Survived']].groupby(['Title'], as_index=False).mean()"
   ]
  },
  {
   "cell_type": "code",
   "execution_count": 24,
   "id": "6456db56",
   "metadata": {
    "execution": {
     "iopub.execute_input": "2024-09-13T08:05:48.703560Z",
     "iopub.status.busy": "2024-09-13T08:05:48.703150Z",
     "iopub.status.idle": "2024-09-13T08:05:48.728787Z",
     "shell.execute_reply": "2024-09-13T08:05:48.727070Z",
     "shell.execute_reply.started": "2024-09-13T08:05:48.703493Z"
    }
   },
   "outputs": [
    {
     "data": {
      "text/html": [
       "<div>\n",
       "<style scoped>\n",
       "    .dataframe tbody tr th:only-of-type {\n",
       "        vertical-align: middle;\n",
       "    }\n",
       "\n",
       "    .dataframe tbody tr th {\n",
       "        vertical-align: top;\n",
       "    }\n",
       "\n",
       "    .dataframe thead th {\n",
       "        text-align: right;\n",
       "    }\n",
       "</style>\n",
       "<table border=\"1\" class=\"dataframe\">\n",
       "  <thead>\n",
       "    <tr style=\"text-align: right;\">\n",
       "      <th></th>\n",
       "      <th>PassengerId</th>\n",
       "      <th>Survived</th>\n",
       "      <th>Pclass</th>\n",
       "      <th>Name</th>\n",
       "      <th>Sex</th>\n",
       "      <th>Age</th>\n",
       "      <th>SibSp</th>\n",
       "      <th>Parch</th>\n",
       "      <th>Fare</th>\n",
       "      <th>Embarked</th>\n",
       "      <th>Title</th>\n",
       "    </tr>\n",
       "  </thead>\n",
       "  <tbody>\n",
       "    <tr>\n",
       "      <th>0</th>\n",
       "      <td>1</td>\n",
       "      <td>0</td>\n",
       "      <td>3</td>\n",
       "      <td>Braund, Mr. Owen Harris</td>\n",
       "      <td>male</td>\n",
       "      <td>22.0</td>\n",
       "      <td>1</td>\n",
       "      <td>0</td>\n",
       "      <td>7.2500</td>\n",
       "      <td>S</td>\n",
       "      <td>1</td>\n",
       "    </tr>\n",
       "    <tr>\n",
       "      <th>1</th>\n",
       "      <td>2</td>\n",
       "      <td>1</td>\n",
       "      <td>1</td>\n",
       "      <td>Cumings, Mrs. John Bradley (Florence Briggs Th...</td>\n",
       "      <td>female</td>\n",
       "      <td>38.0</td>\n",
       "      <td>1</td>\n",
       "      <td>0</td>\n",
       "      <td>71.2833</td>\n",
       "      <td>C</td>\n",
       "      <td>3</td>\n",
       "    </tr>\n",
       "    <tr>\n",
       "      <th>2</th>\n",
       "      <td>3</td>\n",
       "      <td>1</td>\n",
       "      <td>3</td>\n",
       "      <td>Heikkinen, Miss. Laina</td>\n",
       "      <td>female</td>\n",
       "      <td>26.0</td>\n",
       "      <td>0</td>\n",
       "      <td>0</td>\n",
       "      <td>7.9250</td>\n",
       "      <td>S</td>\n",
       "      <td>2</td>\n",
       "    </tr>\n",
       "    <tr>\n",
       "      <th>3</th>\n",
       "      <td>4</td>\n",
       "      <td>1</td>\n",
       "      <td>1</td>\n",
       "      <td>Futrelle, Mrs. Jacques Heath (Lily May Peel)</td>\n",
       "      <td>female</td>\n",
       "      <td>35.0</td>\n",
       "      <td>1</td>\n",
       "      <td>0</td>\n",
       "      <td>53.1000</td>\n",
       "      <td>S</td>\n",
       "      <td>3</td>\n",
       "    </tr>\n",
       "    <tr>\n",
       "      <th>4</th>\n",
       "      <td>5</td>\n",
       "      <td>0</td>\n",
       "      <td>3</td>\n",
       "      <td>Allen, Mr. William Henry</td>\n",
       "      <td>male</td>\n",
       "      <td>35.0</td>\n",
       "      <td>0</td>\n",
       "      <td>0</td>\n",
       "      <td>8.0500</td>\n",
       "      <td>S</td>\n",
       "      <td>1</td>\n",
       "    </tr>\n",
       "  </tbody>\n",
       "</table>\n",
       "</div>"
      ],
      "text/plain": [
       "   PassengerId  Survived  Pclass  \\\n",
       "0            1         0       3   \n",
       "1            2         1       1   \n",
       "2            3         1       3   \n",
       "3            4         1       1   \n",
       "4            5         0       3   \n",
       "\n",
       "                                                Name     Sex   Age  SibSp  \\\n",
       "0                            Braund, Mr. Owen Harris    male  22.0      1   \n",
       "1  Cumings, Mrs. John Bradley (Florence Briggs Th...  female  38.0      1   \n",
       "2                             Heikkinen, Miss. Laina  female  26.0      0   \n",
       "3       Futrelle, Mrs. Jacques Heath (Lily May Peel)  female  35.0      1   \n",
       "4                           Allen, Mr. William Henry    male  35.0      0   \n",
       "\n",
       "   Parch     Fare Embarked  Title  \n",
       "0      0   7.2500        S      1  \n",
       "1      0  71.2833        C      3  \n",
       "2      0   7.9250        S      2  \n",
       "3      0  53.1000        S      3  \n",
       "4      0   8.0500        S      1  "
      ]
     },
     "execution_count": 24,
     "metadata": {},
     "output_type": "execute_result"
    }
   ],
   "source": [
    "# 将分类标题转换为序数\n",
    "title_mapping = {\"Mr\": 1, \"Miss\": 2, \"Mrs\": 3, \"Master\": 4, \"Rare\": 5}\n",
    "for dataset in combine:\n",
    "    dataset['Title'] = dataset['Title'].map(title_mapping)  # 将序列中的每一个元素，输入函数，最后将映射后的每个值返回合并，得到一个迭代器\n",
    "    dataset['Title'] = dataset['Title'].fillna(0)  \n",
    "\n",
    "train_df.head()"
   ]
  },
  {
   "cell_type": "code",
   "execution_count": 25,
   "id": "c6a3d38f",
   "metadata": {
    "execution": {
     "iopub.execute_input": "2024-09-13T08:05:48.730736Z",
     "iopub.status.busy": "2024-09-13T08:05:48.730251Z",
     "iopub.status.idle": "2024-09-13T08:05:48.748346Z",
     "shell.execute_reply": "2024-09-13T08:05:48.746664Z",
     "shell.execute_reply.started": "2024-09-13T08:05:48.730691Z"
    },
    "scrolled": true
   },
   "outputs": [
    {
     "data": {
      "text/plain": [
       "((891, 9), (418, 9))"
      ]
     },
     "execution_count": 25,
     "metadata": {},
     "output_type": "execute_result"
    }
   ],
   "source": [
    "# 现在可以从训练和测试数据集中删除Name特征以及训练集中的PassengerId 特征\n",
    "train_df = train_df.drop(['Name', 'PassengerId'], axis=1)\n",
    "test_df = test_df.drop(['Name'], axis=1)\n",
    "combine = [train_df, test_df]\n",
    "train_df.shape, test_df.shape"
   ]
  },
  {
   "cell_type": "markdown",
   "id": "307b9465",
   "metadata": {},
   "source": [
    "**转换性别特征Sex**"
   ]
  },
  {
   "cell_type": "code",
   "execution_count": 26,
   "id": "450c8351",
   "metadata": {
    "execution": {
     "iopub.execute_input": "2024-09-13T08:05:48.750647Z",
     "iopub.status.busy": "2024-09-13T08:05:48.750197Z",
     "iopub.status.idle": "2024-09-13T08:05:48.777386Z",
     "shell.execute_reply": "2024-09-13T08:05:48.775921Z",
     "shell.execute_reply.started": "2024-09-13T08:05:48.750602Z"
    }
   },
   "outputs": [
    {
     "data": {
      "text/html": [
       "<div>\n",
       "<style scoped>\n",
       "    .dataframe tbody tr th:only-of-type {\n",
       "        vertical-align: middle;\n",
       "    }\n",
       "\n",
       "    .dataframe tbody tr th {\n",
       "        vertical-align: top;\n",
       "    }\n",
       "\n",
       "    .dataframe thead th {\n",
       "        text-align: right;\n",
       "    }\n",
       "</style>\n",
       "<table border=\"1\" class=\"dataframe\">\n",
       "  <thead>\n",
       "    <tr style=\"text-align: right;\">\n",
       "      <th></th>\n",
       "      <th>Survived</th>\n",
       "      <th>Pclass</th>\n",
       "      <th>Sex</th>\n",
       "      <th>Age</th>\n",
       "      <th>SibSp</th>\n",
       "      <th>Parch</th>\n",
       "      <th>Fare</th>\n",
       "      <th>Embarked</th>\n",
       "      <th>Title</th>\n",
       "    </tr>\n",
       "  </thead>\n",
       "  <tbody>\n",
       "    <tr>\n",
       "      <th>0</th>\n",
       "      <td>0</td>\n",
       "      <td>3</td>\n",
       "      <td>0</td>\n",
       "      <td>22.0</td>\n",
       "      <td>1</td>\n",
       "      <td>0</td>\n",
       "      <td>7.2500</td>\n",
       "      <td>S</td>\n",
       "      <td>1</td>\n",
       "    </tr>\n",
       "    <tr>\n",
       "      <th>1</th>\n",
       "      <td>1</td>\n",
       "      <td>1</td>\n",
       "      <td>1</td>\n",
       "      <td>38.0</td>\n",
       "      <td>1</td>\n",
       "      <td>0</td>\n",
       "      <td>71.2833</td>\n",
       "      <td>C</td>\n",
       "      <td>3</td>\n",
       "    </tr>\n",
       "    <tr>\n",
       "      <th>2</th>\n",
       "      <td>1</td>\n",
       "      <td>3</td>\n",
       "      <td>1</td>\n",
       "      <td>26.0</td>\n",
       "      <td>0</td>\n",
       "      <td>0</td>\n",
       "      <td>7.9250</td>\n",
       "      <td>S</td>\n",
       "      <td>2</td>\n",
       "    </tr>\n",
       "    <tr>\n",
       "      <th>3</th>\n",
       "      <td>1</td>\n",
       "      <td>1</td>\n",
       "      <td>1</td>\n",
       "      <td>35.0</td>\n",
       "      <td>1</td>\n",
       "      <td>0</td>\n",
       "      <td>53.1000</td>\n",
       "      <td>S</td>\n",
       "      <td>3</td>\n",
       "    </tr>\n",
       "    <tr>\n",
       "      <th>4</th>\n",
       "      <td>0</td>\n",
       "      <td>3</td>\n",
       "      <td>0</td>\n",
       "      <td>35.0</td>\n",
       "      <td>0</td>\n",
       "      <td>0</td>\n",
       "      <td>8.0500</td>\n",
       "      <td>S</td>\n",
       "      <td>1</td>\n",
       "    </tr>\n",
       "  </tbody>\n",
       "</table>\n",
       "</div>"
      ],
      "text/plain": [
       "   Survived  Pclass  Sex   Age  SibSp  Parch     Fare Embarked  Title\n",
       "0         0       3    0  22.0      1      0   7.2500        S      1\n",
       "1         1       1    1  38.0      1      0  71.2833        C      3\n",
       "2         1       3    1  26.0      0      0   7.9250        S      2\n",
       "3         1       1    1  35.0      1      0  53.1000        S      3\n",
       "4         0       3    0  35.0      0      0   8.0500        S      1"
      ]
     },
     "execution_count": 26,
     "metadata": {},
     "output_type": "execute_result"
    }
   ],
   "source": [
    "# 转换分类特征Sex\n",
    "for dataset in combine:\n",
    "    dataset['Sex'] = dataset['Sex'].map( {'female': 1, 'male': 0} ).astype(int)  #男性赋值为0，女性赋值为1，并转换为整型数据\n",
    "\n",
    "train_df.head()"
   ]
  },
  {
   "cell_type": "markdown",
   "id": "36f5127b",
   "metadata": {},
   "source": [
    "**填补年龄特征Age的缺失值**\n",
    "- 法一：使用其他相关特征，注意到 Age、Sex 和 Pclass 之间的相关性，使用 Pclass 和 Sex 特征组合集的 Age 中值预测 Age 值；\n",
    "- 法二：基于法一，使用基于 Pclass 和Sex 组合集的均值和标准差之间的随机数来预测 Age 值；\n",
    "- 法三：引入随机噪声。\n",
    "\n",
    "我们用法一去做。"
   ]
  },
  {
   "cell_type": "code",
   "execution_count": 27,
   "id": "39404951",
   "metadata": {
    "execution": {
     "iopub.execute_input": "2024-09-13T08:05:48.779425Z",
     "iopub.status.busy": "2024-09-13T08:05:48.779017Z",
     "iopub.status.idle": "2024-09-13T08:05:50.314883Z",
     "shell.execute_reply": "2024-09-13T08:05:50.313785Z",
     "shell.execute_reply.started": "2024-09-13T08:05:48.779382Z"
    },
    "scrolled": true
   },
   "outputs": [
    {
     "data": {
      "text/plain": [
       "<seaborn.axisgrid.FacetGrid at 0x1da7af5edc0>"
      ]
     },
     "execution_count": 27,
     "metadata": {},
     "output_type": "execute_result"
    },
    {
     "data": {
      "image/png": "[encoded data removed]",
      "text/plain": [
       "<Figure size 958.875x300 with 3 Axes>"
      ]
     },
     "metadata": {},
     "output_type": "display_data"
    }
   ],
   "source": [
    "# 绘制Age, Pclass, Sex复合直方图\n",
    "#grid = sns.FacetGrid(train_df, row='Pclass', col='Sex', size=2.2, aspect=1.6)\n",
    "grid = sns.FacetGrid(train_df, col='Pclass', hue='Sex')\n",
    "grid.map(plt.hist, 'Age', alpha=.5, bins=20)\n",
    "grid.add_legend()"
   ]
  },
  {
   "cell_type": "code",
   "execution_count": 28,
   "id": "6fa4c3e8",
   "metadata": {
    "execution": {
     "iopub.execute_input": "2024-09-13T08:05:50.316638Z",
     "iopub.status.busy": "2024-09-13T08:05:50.316265Z",
     "iopub.status.idle": "2024-09-13T08:05:50.368536Z",
     "shell.execute_reply": "2024-09-13T08:05:50.367418Z",
     "shell.execute_reply.started": "2024-09-13T08:05:50.316599Z"
    }
   },
   "outputs": [
    {
     "data": {
      "text/html": [
       "<div>\n",
       "<style scoped>\n",
       "    .dataframe tbody tr th:only-of-type {\n",
       "        vertical-align: middle;\n",
       "    }\n",
       "\n",
       "    .dataframe tbody tr th {\n",
       "        vertical-align: top;\n",
       "    }\n",
       "\n",
       "    .dataframe thead th {\n",
       "        text-align: right;\n",
       "    }\n",
       "</style>\n",
       "<table border=\"1\" class=\"dataframe\">\n",
       "  <thead>\n",
       "    <tr style=\"text-align: right;\">\n",
       "      <th></th>\n",
       "      <th>Survived</th>\n",
       "      <th>Pclass</th>\n",
       "      <th>Sex</th>\n",
       "      <th>Age</th>\n",
       "      <th>SibSp</th>\n",
       "      <th>Parch</th>\n",
       "      <th>Fare</th>\n",
       "      <th>Embarked</th>\n",
       "      <th>Title</th>\n",
       "    </tr>\n",
       "  </thead>\n",
       "  <tbody>\n",
       "    <tr>\n",
       "      <th>0</th>\n",
       "      <td>0</td>\n",
       "      <td>3</td>\n",
       "      <td>0</td>\n",
       "      <td>22</td>\n",
       "      <td>1</td>\n",
       "      <td>0</td>\n",
       "      <td>7.2500</td>\n",
       "      <td>S</td>\n",
       "      <td>1</td>\n",
       "    </tr>\n",
       "    <tr>\n",
       "      <th>1</th>\n",
       "      <td>1</td>\n",
       "      <td>1</td>\n",
       "      <td>1</td>\n",
       "      <td>38</td>\n",
       "      <td>1</td>\n",
       "      <td>0</td>\n",
       "      <td>71.2833</td>\n",
       "      <td>C</td>\n",
       "      <td>3</td>\n",
       "    </tr>\n",
       "    <tr>\n",
       "      <th>2</th>\n",
       "      <td>1</td>\n",
       "      <td>3</td>\n",
       "      <td>1</td>\n",
       "      <td>26</td>\n",
       "      <td>0</td>\n",
       "      <td>0</td>\n",
       "      <td>7.9250</td>\n",
       "      <td>S</td>\n",
       "      <td>2</td>\n",
       "    </tr>\n",
       "    <tr>\n",
       "      <th>3</th>\n",
       "      <td>1</td>\n",
       "      <td>1</td>\n",
       "      <td>1</td>\n",
       "      <td>35</td>\n",
       "      <td>1</td>\n",
       "      <td>0</td>\n",
       "      <td>53.1000</td>\n",
       "      <td>S</td>\n",
       "      <td>3</td>\n",
       "    </tr>\n",
       "    <tr>\n",
       "      <th>4</th>\n",
       "      <td>0</td>\n",
       "      <td>3</td>\n",
       "      <td>0</td>\n",
       "      <td>35</td>\n",
       "      <td>0</td>\n",
       "      <td>0</td>\n",
       "      <td>8.0500</td>\n",
       "      <td>S</td>\n",
       "      <td>1</td>\n",
       "    </tr>\n",
       "  </tbody>\n",
       "</table>\n",
       "</div>"
      ],
      "text/plain": [
       "   Survived  Pclass  Sex  Age  SibSp  Parch     Fare Embarked  Title\n",
       "0         0       3    0   22      1      0   7.2500        S      1\n",
       "1         1       1    1   38      1      0  71.2833        C      3\n",
       "2         1       3    1   26      0      0   7.9250        S      2\n",
       "3         1       1    1   35      1      0  53.1000        S      3\n",
       "4         0       3    0   35      0      0   8.0500        S      1"
      ]
     },
     "execution_count": 28,
     "metadata": {},
     "output_type": "execute_result"
    }
   ],
   "source": [
    "# 创建空数组\n",
    "guess_ages = np.zeros((2,3))\n",
    "guess_ages\n",
    "\n",
    "# 遍历 Sex (0 或 1) 和 Pclass (1, 2, 3) 来计算六种组合的 Age 猜测值\n",
    "for dataset in combine:\n",
    "    # 第一个for循环计算每一个分组的Age预测值\n",
    "    for i in range(0, 2):\n",
    "        for j in range(0, 3):\n",
    "            guess_df = dataset[(dataset['Sex'] == i) & \\\n",
    "                                  (dataset['Pclass'] == j+1)]['Age'].dropna()\n",
    "\n",
    "            # age_mean = guess_df.mean()\n",
    "            # age_std = guess_df.std()\n",
    "            # age_guess = rnd.uniform(age_mean - age_std, age_mean + age_std)\n",
    "\n",
    "            age_guess = guess_df.median()\n",
    "\n",
    "            # 将随机年龄浮点数转换为最接近的 0.5 年龄（四舍五入）\n",
    "            guess_ages[i,j] = int( age_guess/0.5 + 0.5 ) * 0.5\n",
    "            \n",
    "    # 第二个for循环对空值进行赋值        \n",
    "    for i in range(0, 2):\n",
    "        for j in range(0, 3):\n",
    "            dataset.loc[ (dataset.Age.isnull()) & (dataset.Sex == i) & (dataset.Pclass == j+1),\\\n",
    "                    'Age'] = guess_ages[i,j]\n",
    "\n",
    "    dataset['Age'] = dataset['Age'].astype(int)\n",
    "train_df.head()"
   ]
  },
  {
   "cell_type": "code",
   "execution_count": 29,
   "id": "9af04a09",
   "metadata": {
    "execution": {
     "iopub.execute_input": "2024-09-13T08:05:50.370215Z",
     "iopub.status.busy": "2024-09-13T08:05:50.369848Z",
     "iopub.status.idle": "2024-09-13T08:05:50.397978Z",
     "shell.execute_reply": "2024-09-13T08:05:50.396435Z",
     "shell.execute_reply.started": "2024-09-13T08:05:50.370177Z"
    },
    "scrolled": true
   },
   "outputs": [],
   "source": [
    "# # 创建年龄段,并确定其与Survived的相关性\n",
    "# # 一般在建立分类模型时，需要对连续变量离散化，特征离散化后，模型会更稳定，降低了模型过拟合的风险\n",
    "# train_df['AgeBand'] = pd.cut(train_df['Age'], 10)  # 将年龄分割为5段,等距分箱\n",
    "# # train_df['AgeBand'] = pd.cut(train_df['Age'], 5)  # 将年龄分割为5段,等距分箱\n",
    "# train_df[['AgeBand', 'Survived']].groupby(['AgeBand'], as_index=False).mean().sort_values(by='AgeBand', ascending=True)"
   ]
  },
  {
   "cell_type": "code",
   "execution_count": 30,
   "id": "d2c9353c",
   "metadata": {},
   "outputs": [],
   "source": [
    "# # 将这些年龄区间替换为序数\n",
    "# for dataset in combine:    \n",
    "#     dataset.loc[ dataset['Age'] <= 8, 'Age'] = 0\n",
    "#     dataset.loc[(dataset['Age'] > 8) & (dataset['Age'] <= 16), 'Age'] = 1\n",
    "#     dataset.loc[(dataset['Age'] > 16) & (dataset['Age'] <= 24), 'Age'] = 2\n",
    "#     dataset.loc[(dataset['Age'] > 24) & (dataset['Age'] <= 32), 'Age'] = 3\n",
    "#     dataset.loc[(dataset['Age'] > 32) & (dataset['Age'] <= 40), 'Age'] = 4\n",
    "#     dataset.loc[(dataset['Age'] > 40) & (dataset['Age'] <= 48), 'Age'] = 5\n",
    "#     dataset.loc[(dataset['Age'] > 48) & (dataset['Age'] <= 56), 'Age'] = 6\n",
    "#     dataset.loc[(dataset['Age'] > 56) & (dataset['Age'] <= 64), 'Age'] = 7\n",
    "#     dataset.loc[(dataset['Age'] > 64) & (dataset['Age'] <= 72), 'Age'] = 8\n",
    "#     dataset.loc[ dataset['Age'] > 72, 'Age'] = 9\n",
    "# train_df.head()"
   ]
  },
  {
   "cell_type": "code",
   "execution_count": 31,
   "id": "a8487234",
   "metadata": {
    "execution": {
     "iopub.execute_input": "2024-09-13T08:05:50.400318Z",
     "iopub.status.busy": "2024-09-13T08:05:50.399791Z",
     "iopub.status.idle": "2024-09-13T08:05:50.428297Z",
     "shell.execute_reply": "2024-09-13T08:05:50.427130Z",
     "shell.execute_reply.started": "2024-09-13T08:05:50.400260Z"
    },
    "scrolled": false
   },
   "outputs": [],
   "source": [
    "# # 将这些年龄区间替换为序数\n",
    "# for dataset in combine:    \n",
    "#     dataset.loc[ dataset['Age'] <= 16, 'Age'] = 0\n",
    "#     dataset.loc[(dataset['Age'] > 16) & (dataset['Age'] <= 32), 'Age'] = 1\n",
    "#     dataset.loc[(dataset['Age'] > 32) & (dataset['Age'] <= 48), 'Age'] = 2\n",
    "#     dataset.loc[(dataset['Age'] > 48) & (dataset['Age'] <= 64), 'Age'] = 3\n",
    "#     dataset.loc[ dataset['Age'] > 64, 'Age'] = 4\n",
    "# train_df.head()"
   ]
  },
  {
   "cell_type": "code",
   "execution_count": 32,
   "id": "deecb067",
   "metadata": {
    "execution": {
     "iopub.execute_input": "2024-09-13T08:05:50.430854Z",
     "iopub.status.busy": "2024-09-13T08:05:50.430204Z",
     "iopub.status.idle": "2024-09-13T08:05:50.460479Z",
     "shell.execute_reply": "2024-09-13T08:05:50.459045Z",
     "shell.execute_reply.started": "2024-09-13T08:05:50.430797Z"
    }
   },
   "outputs": [
    {
     "data": {
      "text/html": [
       "<div>\n",
       "<style scoped>\n",
       "    .dataframe tbody tr th:only-of-type {\n",
       "        vertical-align: middle;\n",
       "    }\n",
       "\n",
       "    .dataframe tbody tr th {\n",
       "        vertical-align: top;\n",
       "    }\n",
       "\n",
       "    .dataframe thead th {\n",
       "        text-align: right;\n",
       "    }\n",
       "</style>\n",
       "<table border=\"1\" class=\"dataframe\">\n",
       "  <thead>\n",
       "    <tr style=\"text-align: right;\">\n",
       "      <th></th>\n",
       "      <th>PassengerId</th>\n",
       "      <th>Pclass</th>\n",
       "      <th>Sex</th>\n",
       "      <th>Age</th>\n",
       "      <th>SibSp</th>\n",
       "      <th>Parch</th>\n",
       "      <th>Fare</th>\n",
       "      <th>Embarked</th>\n",
       "      <th>Title</th>\n",
       "    </tr>\n",
       "  </thead>\n",
       "  <tbody>\n",
       "    <tr>\n",
       "      <th>0</th>\n",
       "      <td>892</td>\n",
       "      <td>3</td>\n",
       "      <td>0</td>\n",
       "      <td>34</td>\n",
       "      <td>0</td>\n",
       "      <td>0</td>\n",
       "      <td>7.8292</td>\n",
       "      <td>Q</td>\n",
       "      <td>1</td>\n",
       "    </tr>\n",
       "    <tr>\n",
       "      <th>1</th>\n",
       "      <td>893</td>\n",
       "      <td>3</td>\n",
       "      <td>1</td>\n",
       "      <td>47</td>\n",
       "      <td>1</td>\n",
       "      <td>0</td>\n",
       "      <td>7.0000</td>\n",
       "      <td>S</td>\n",
       "      <td>3</td>\n",
       "    </tr>\n",
       "    <tr>\n",
       "      <th>2</th>\n",
       "      <td>894</td>\n",
       "      <td>2</td>\n",
       "      <td>0</td>\n",
       "      <td>62</td>\n",
       "      <td>0</td>\n",
       "      <td>0</td>\n",
       "      <td>9.6875</td>\n",
       "      <td>Q</td>\n",
       "      <td>1</td>\n",
       "    </tr>\n",
       "    <tr>\n",
       "      <th>3</th>\n",
       "      <td>895</td>\n",
       "      <td>3</td>\n",
       "      <td>0</td>\n",
       "      <td>27</td>\n",
       "      <td>0</td>\n",
       "      <td>0</td>\n",
       "      <td>8.6625</td>\n",
       "      <td>S</td>\n",
       "      <td>1</td>\n",
       "    </tr>\n",
       "    <tr>\n",
       "      <th>4</th>\n",
       "      <td>896</td>\n",
       "      <td>3</td>\n",
       "      <td>1</td>\n",
       "      <td>22</td>\n",
       "      <td>1</td>\n",
       "      <td>1</td>\n",
       "      <td>12.2875</td>\n",
       "      <td>S</td>\n",
       "      <td>3</td>\n",
       "    </tr>\n",
       "    <tr>\n",
       "      <th>...</th>\n",
       "      <td>...</td>\n",
       "      <td>...</td>\n",
       "      <td>...</td>\n",
       "      <td>...</td>\n",
       "      <td>...</td>\n",
       "      <td>...</td>\n",
       "      <td>...</td>\n",
       "      <td>...</td>\n",
       "      <td>...</td>\n",
       "    </tr>\n",
       "    <tr>\n",
       "      <th>413</th>\n",
       "      <td>1305</td>\n",
       "      <td>3</td>\n",
       "      <td>0</td>\n",
       "      <td>24</td>\n",
       "      <td>0</td>\n",
       "      <td>0</td>\n",
       "      <td>8.0500</td>\n",
       "      <td>S</td>\n",
       "      <td>1</td>\n",
       "    </tr>\n",
       "    <tr>\n",
       "      <th>414</th>\n",
       "      <td>1306</td>\n",
       "      <td>1</td>\n",
       "      <td>1</td>\n",
       "      <td>39</td>\n",
       "      <td>0</td>\n",
       "      <td>0</td>\n",
       "      <td>108.9000</td>\n",
       "      <td>C</td>\n",
       "      <td>5</td>\n",
       "    </tr>\n",
       "    <tr>\n",
       "      <th>415</th>\n",
       "      <td>1307</td>\n",
       "      <td>3</td>\n",
       "      <td>0</td>\n",
       "      <td>38</td>\n",
       "      <td>0</td>\n",
       "      <td>0</td>\n",
       "      <td>7.2500</td>\n",
       "      <td>S</td>\n",
       "      <td>1</td>\n",
       "    </tr>\n",
       "    <tr>\n",
       "      <th>416</th>\n",
       "      <td>1308</td>\n",
       "      <td>3</td>\n",
       "      <td>0</td>\n",
       "      <td>24</td>\n",
       "      <td>0</td>\n",
       "      <td>0</td>\n",
       "      <td>8.0500</td>\n",
       "      <td>S</td>\n",
       "      <td>1</td>\n",
       "    </tr>\n",
       "    <tr>\n",
       "      <th>417</th>\n",
       "      <td>1309</td>\n",
       "      <td>3</td>\n",
       "      <td>0</td>\n",
       "      <td>24</td>\n",
       "      <td>1</td>\n",
       "      <td>1</td>\n",
       "      <td>22.3583</td>\n",
       "      <td>C</td>\n",
       "      <td>4</td>\n",
       "    </tr>\n",
       "  </tbody>\n",
       "</table>\n",
       "<p>418 rows × 9 columns</p>\n",
       "</div>"
      ],
      "text/plain": [
       "     PassengerId  Pclass  Sex  Age  SibSp  Parch      Fare Embarked  Title\n",
       "0            892       3    0   34      0      0    7.8292        Q      1\n",
       "1            893       3    1   47      1      0    7.0000        S      3\n",
       "2            894       2    0   62      0      0    9.6875        Q      1\n",
       "3            895       3    0   27      0      0    8.6625        S      1\n",
       "4            896       3    1   22      1      1   12.2875        S      3\n",
       "..           ...     ...  ...  ...    ...    ...       ...      ...    ...\n",
       "413         1305       3    0   24      0      0    8.0500        S      1\n",
       "414         1306       1    1   39      0      0  108.9000        C      5\n",
       "415         1307       3    0   38      0      0    7.2500        S      1\n",
       "416         1308       3    0   24      0      0    8.0500        S      1\n",
       "417         1309       3    0   24      1      1   22.3583        C      4\n",
       "\n",
       "[418 rows x 9 columns]"
      ]
     },
     "execution_count": 32,
     "metadata": {},
     "output_type": "execute_result"
    }
   ],
   "source": [
    "# train_df = train_df.drop(['AgeBand'], axis=1)  # 删除训练集中的AgeBand特征\n",
    "combine = [train_df, test_df]\n",
    "train_df.head()\n",
    "test_df"
   ]
  },
  {
   "cell_type": "markdown",
   "id": "c311a2c1",
   "metadata": {},
   "source": [
    "**结合SibSp和Parch特征创建一个新特征FamilySize，意为包括兄弟姐妹、配偶、父母、孩子和自己的所有家人数量**"
   ]
  },
  {
   "cell_type": "code",
   "execution_count": 33,
   "id": "3aca680d",
   "metadata": {
    "execution": {
     "iopub.execute_input": "2024-09-13T08:05:50.462225Z",
     "iopub.status.busy": "2024-09-13T08:05:50.461834Z",
     "iopub.status.idle": "2024-09-13T08:05:50.487038Z",
     "shell.execute_reply": "2024-09-13T08:05:50.485815Z",
     "shell.execute_reply.started": "2024-09-13T08:05:50.462184Z"
    }
   },
   "outputs": [
    {
     "data": {
      "text/html": [
       "<div>\n",
       "<style scoped>\n",
       "    .dataframe tbody tr th:only-of-type {\n",
       "        vertical-align: middle;\n",
       "    }\n",
       "\n",
       "    .dataframe tbody tr th {\n",
       "        vertical-align: top;\n",
       "    }\n",
       "\n",
       "    .dataframe thead th {\n",
       "        text-align: right;\n",
       "    }\n",
       "</style>\n",
       "<table border=\"1\" class=\"dataframe\">\n",
       "  <thead>\n",
       "    <tr style=\"text-align: right;\">\n",
       "      <th></th>\n",
       "      <th>FamilySize</th>\n",
       "      <th>Survived</th>\n",
       "    </tr>\n",
       "  </thead>\n",
       "  <tbody>\n",
       "    <tr>\n",
       "      <th>3</th>\n",
       "      <td>4</td>\n",
       "      <td>0.724138</td>\n",
       "    </tr>\n",
       "    <tr>\n",
       "      <th>2</th>\n",
       "      <td>3</td>\n",
       "      <td>0.578431</td>\n",
       "    </tr>\n",
       "    <tr>\n",
       "      <th>1</th>\n",
       "      <td>2</td>\n",
       "      <td>0.552795</td>\n",
       "    </tr>\n",
       "    <tr>\n",
       "      <th>6</th>\n",
       "      <td>7</td>\n",
       "      <td>0.333333</td>\n",
       "    </tr>\n",
       "    <tr>\n",
       "      <th>0</th>\n",
       "      <td>1</td>\n",
       "      <td>0.303538</td>\n",
       "    </tr>\n",
       "    <tr>\n",
       "      <th>4</th>\n",
       "      <td>5</td>\n",
       "      <td>0.200000</td>\n",
       "    </tr>\n",
       "    <tr>\n",
       "      <th>5</th>\n",
       "      <td>6</td>\n",
       "      <td>0.136364</td>\n",
       "    </tr>\n",
       "    <tr>\n",
       "      <th>7</th>\n",
       "      <td>8</td>\n",
       "      <td>0.000000</td>\n",
       "    </tr>\n",
       "    <tr>\n",
       "      <th>8</th>\n",
       "      <td>11</td>\n",
       "      <td>0.000000</td>\n",
       "    </tr>\n",
       "  </tbody>\n",
       "</table>\n",
       "</div>"
      ],
      "text/plain": [
       "   FamilySize  Survived\n",
       "3           4  0.724138\n",
       "2           3  0.578431\n",
       "1           2  0.552795\n",
       "6           7  0.333333\n",
       "0           1  0.303538\n",
       "4           5  0.200000\n",
       "5           6  0.136364\n",
       "7           8  0.000000\n",
       "8          11  0.000000"
      ]
     },
     "execution_count": 33,
     "metadata": {},
     "output_type": "execute_result"
    }
   ],
   "source": [
    "for dataset in combine:\n",
    "    dataset['FamilySize'] = dataset['SibSp'] + dataset['Parch'] + 1\n",
    "\n",
    "train_df[['FamilySize', 'Survived']].groupby(['FamilySize'], as_index=False).mean().sort_values(by='Survived', ascending=False)"
   ]
  },
  {
   "cell_type": "markdown",
   "id": "f14298b7",
   "metadata": {},
   "source": [
    "**创建一个新特征IsAlone，取值为0表示不是独自一人，取值为1表示独自一人**"
   ]
  },
  {
   "cell_type": "code",
   "execution_count": 34,
   "id": "63dca62f",
   "metadata": {
    "execution": {
     "iopub.execute_input": "2024-09-13T08:05:50.488981Z",
     "iopub.status.busy": "2024-09-13T08:05:50.488556Z",
     "iopub.status.idle": "2024-09-13T08:05:50.510488Z",
     "shell.execute_reply": "2024-09-13T08:05:50.509223Z",
     "shell.execute_reply.started": "2024-09-13T08:05:50.488938Z"
    }
   },
   "outputs": [
    {
     "data": {
      "text/html": [
       "<div>\n",
       "<style scoped>\n",
       "    .dataframe tbody tr th:only-of-type {\n",
       "        vertical-align: middle;\n",
       "    }\n",
       "\n",
       "    .dataframe tbody tr th {\n",
       "        vertical-align: top;\n",
       "    }\n",
       "\n",
       "    .dataframe thead th {\n",
       "        text-align: right;\n",
       "    }\n",
       "</style>\n",
       "<table border=\"1\" class=\"dataframe\">\n",
       "  <thead>\n",
       "    <tr style=\"text-align: right;\">\n",
       "      <th></th>\n",
       "      <th>IsAlone</th>\n",
       "      <th>Survived</th>\n",
       "    </tr>\n",
       "  </thead>\n",
       "  <tbody>\n",
       "    <tr>\n",
       "      <th>0</th>\n",
       "      <td>0</td>\n",
       "      <td>0.505650</td>\n",
       "    </tr>\n",
       "    <tr>\n",
       "      <th>1</th>\n",
       "      <td>1</td>\n",
       "      <td>0.303538</td>\n",
       "    </tr>\n",
       "  </tbody>\n",
       "</table>\n",
       "</div>"
      ],
      "text/plain": [
       "   IsAlone  Survived\n",
       "0        0  0.505650\n",
       "1        1  0.303538"
      ]
     },
     "execution_count": 34,
     "metadata": {},
     "output_type": "execute_result"
    }
   ],
   "source": [
    "# 创建新特征IsAlone\n",
    "for dataset in combine:\n",
    "    dataset['IsAlone'] = 0\n",
    "    dataset.loc[dataset['FamilySize'] == 1, 'IsAlone'] = 1\n",
    "\n",
    "train_df[['IsAlone', 'Survived']].groupby(['IsAlone'], as_index=False).mean()"
   ]
  },
  {
   "cell_type": "markdown",
   "id": "17f2ab4c",
   "metadata": {},
   "source": [
    "**舍弃 Parch、SibSp 和 FamilySize 特征，转而支持 IsAlone，因为 IsAlone 更能反映其与Survived的相关性**"
   ]
  },
  {
   "cell_type": "code",
   "execution_count": 35,
   "id": "371dd5d1",
   "metadata": {
    "execution": {
     "iopub.execute_input": "2024-09-13T08:05:50.512342Z",
     "iopub.status.busy": "2024-09-13T08:05:50.511982Z",
     "iopub.status.idle": "2024-09-13T08:05:50.535136Z",
     "shell.execute_reply": "2024-09-13T08:05:50.533623Z",
     "shell.execute_reply.started": "2024-09-13T08:05:50.512306Z"
    },
    "scrolled": true
   },
   "outputs": [
    {
     "data": {
      "text/html": [
       "<div>\n",
       "<style scoped>\n",
       "    .dataframe tbody tr th:only-of-type {\n",
       "        vertical-align: middle;\n",
       "    }\n",
       "\n",
       "    .dataframe tbody tr th {\n",
       "        vertical-align: top;\n",
       "    }\n",
       "\n",
       "    .dataframe thead th {\n",
       "        text-align: right;\n",
       "    }\n",
       "</style>\n",
       "<table border=\"1\" class=\"dataframe\">\n",
       "  <thead>\n",
       "    <tr style=\"text-align: right;\">\n",
       "      <th></th>\n",
       "      <th>Survived</th>\n",
       "      <th>Pclass</th>\n",
       "      <th>Sex</th>\n",
       "      <th>Age</th>\n",
       "      <th>Fare</th>\n",
       "      <th>Embarked</th>\n",
       "      <th>Title</th>\n",
       "      <th>IsAlone</th>\n",
       "    </tr>\n",
       "  </thead>\n",
       "  <tbody>\n",
       "    <tr>\n",
       "      <th>0</th>\n",
       "      <td>0</td>\n",
       "      <td>3</td>\n",
       "      <td>0</td>\n",
       "      <td>22</td>\n",
       "      <td>7.2500</td>\n",
       "      <td>S</td>\n",
       "      <td>1</td>\n",
       "      <td>0</td>\n",
       "    </tr>\n",
       "    <tr>\n",
       "      <th>1</th>\n",
       "      <td>1</td>\n",
       "      <td>1</td>\n",
       "      <td>1</td>\n",
       "      <td>38</td>\n",
       "      <td>71.2833</td>\n",
       "      <td>C</td>\n",
       "      <td>3</td>\n",
       "      <td>0</td>\n",
       "    </tr>\n",
       "    <tr>\n",
       "      <th>2</th>\n",
       "      <td>1</td>\n",
       "      <td>3</td>\n",
       "      <td>1</td>\n",
       "      <td>26</td>\n",
       "      <td>7.9250</td>\n",
       "      <td>S</td>\n",
       "      <td>2</td>\n",
       "      <td>1</td>\n",
       "    </tr>\n",
       "    <tr>\n",
       "      <th>3</th>\n",
       "      <td>1</td>\n",
       "      <td>1</td>\n",
       "      <td>1</td>\n",
       "      <td>35</td>\n",
       "      <td>53.1000</td>\n",
       "      <td>S</td>\n",
       "      <td>3</td>\n",
       "      <td>0</td>\n",
       "    </tr>\n",
       "    <tr>\n",
       "      <th>4</th>\n",
       "      <td>0</td>\n",
       "      <td>3</td>\n",
       "      <td>0</td>\n",
       "      <td>35</td>\n",
       "      <td>8.0500</td>\n",
       "      <td>S</td>\n",
       "      <td>1</td>\n",
       "      <td>1</td>\n",
       "    </tr>\n",
       "  </tbody>\n",
       "</table>\n",
       "</div>"
      ],
      "text/plain": [
       "   Survived  Pclass  Sex  Age     Fare Embarked  Title  IsAlone\n",
       "0         0       3    0   22   7.2500        S      1        0\n",
       "1         1       1    1   38  71.2833        C      3        0\n",
       "2         1       3    1   26   7.9250        S      2        1\n",
       "3         1       1    1   35  53.1000        S      3        0\n",
       "4         0       3    0   35   8.0500        S      1        1"
      ]
     },
     "execution_count": 35,
     "metadata": {},
     "output_type": "execute_result"
    }
   ],
   "source": [
    "train_df = train_df.drop(['Parch', 'SibSp', 'FamilySize'], axis=1)\n",
    "test_df = test_df.drop(['Parch', 'SibSp', 'FamilySize'], axis=1)\n",
    "combine = [train_df, test_df]\n",
    "\n",
    "train_df.head()"
   ]
  },
  {
   "cell_type": "markdown",
   "id": "226b87ff",
   "metadata": {},
   "source": [
    "**同样，我们可以创建一个新特征Age*Pclass，以此来结合Age和Pclass变量**"
   ]
  },
  {
   "cell_type": "code",
   "execution_count": 36,
   "id": "5c038870",
   "metadata": {
    "execution": {
     "iopub.execute_input": "2024-09-13T08:05:50.537191Z",
     "iopub.status.busy": "2024-09-13T08:05:50.536683Z",
     "iopub.status.idle": "2024-09-13T08:05:50.558974Z",
     "shell.execute_reply": "2024-09-13T08:05:50.557617Z",
     "shell.execute_reply.started": "2024-09-13T08:05:50.537140Z"
    }
   },
   "outputs": [
    {
     "data": {
      "text/html": [
       "<div>\n",
       "<style scoped>\n",
       "    .dataframe tbody tr th:only-of-type {\n",
       "        vertical-align: middle;\n",
       "    }\n",
       "\n",
       "    .dataframe tbody tr th {\n",
       "        vertical-align: top;\n",
       "    }\n",
       "\n",
       "    .dataframe thead th {\n",
       "        text-align: right;\n",
       "    }\n",
       "</style>\n",
       "<table border=\"1\" class=\"dataframe\">\n",
       "  <thead>\n",
       "    <tr style=\"text-align: right;\">\n",
       "      <th></th>\n",
       "      <th>Age*Pclass</th>\n",
       "      <th>Survived</th>\n",
       "    </tr>\n",
       "  </thead>\n",
       "  <tbody>\n",
       "    <tr>\n",
       "      <th>0</th>\n",
       "      <td>0</td>\n",
       "      <td>1.000000</td>\n",
       "    </tr>\n",
       "    <tr>\n",
       "      <th>1</th>\n",
       "      <td>2</td>\n",
       "      <td>0.666667</td>\n",
       "    </tr>\n",
       "    <tr>\n",
       "      <th>2</th>\n",
       "      <td>3</td>\n",
       "      <td>0.600000</td>\n",
       "    </tr>\n",
       "    <tr>\n",
       "      <th>3</th>\n",
       "      <td>4</td>\n",
       "      <td>1.000000</td>\n",
       "    </tr>\n",
       "    <tr>\n",
       "      <th>4</th>\n",
       "      <td>6</td>\n",
       "      <td>0.400000</td>\n",
       "    </tr>\n",
       "    <tr>\n",
       "      <th>...</th>\n",
       "      <td>...</td>\n",
       "      <td>...</td>\n",
       "    </tr>\n",
       "    <tr>\n",
       "      <th>108</th>\n",
       "      <td>183</td>\n",
       "      <td>0.000000</td>\n",
       "    </tr>\n",
       "    <tr>\n",
       "      <th>109</th>\n",
       "      <td>189</td>\n",
       "      <td>1.000000</td>\n",
       "    </tr>\n",
       "    <tr>\n",
       "      <th>110</th>\n",
       "      <td>195</td>\n",
       "      <td>0.000000</td>\n",
       "    </tr>\n",
       "    <tr>\n",
       "      <th>111</th>\n",
       "      <td>210</td>\n",
       "      <td>0.000000</td>\n",
       "    </tr>\n",
       "    <tr>\n",
       "      <th>112</th>\n",
       "      <td>222</td>\n",
       "      <td>0.000000</td>\n",
       "    </tr>\n",
       "  </tbody>\n",
       "</table>\n",
       "<p>113 rows × 2 columns</p>\n",
       "</div>"
      ],
      "text/plain": [
       "     Age*Pclass  Survived\n",
       "0             0  1.000000\n",
       "1             2  0.666667\n",
       "2             3  0.600000\n",
       "3             4  1.000000\n",
       "4             6  0.400000\n",
       "..          ...       ...\n",
       "108         183  0.000000\n",
       "109         189  1.000000\n",
       "110         195  0.000000\n",
       "111         210  0.000000\n",
       "112         222  0.000000\n",
       "\n",
       "[113 rows x 2 columns]"
      ]
     },
     "execution_count": 36,
     "metadata": {},
     "output_type": "execute_result"
    }
   ],
   "source": [
    "# 创建Age*Pclass特征以此用来结合Age和Pclass变量\n",
    "for dataset in combine:\n",
    "    dataset['Age*Pclass'] = dataset.Age * dataset.Pclass\n",
    "\n",
    "train_df.loc[:, ['Age*Pclass', 'Age', 'Pclass']].head(10)\n",
    "train_df[['Age*Pclass', 'Survived']].groupby(['Age*Pclass'], as_index=False).mean()"
   ]
  },
  {
   "cell_type": "markdown",
   "id": "3a7ef5df",
   "metadata": {},
   "source": [
    "**填补分类特征Embarked**\n",
    "\n",
    "登船港口特征Embarked，有三种可能取值 S、Q、C。仅训练数据集有两个缺失值，采用众数填补缺失值。"
   ]
  },
  {
   "cell_type": "code",
   "execution_count": 37,
   "id": "0103375c",
   "metadata": {
    "execution": {
     "iopub.execute_input": "2024-09-13T08:05:50.561237Z",
     "iopub.status.busy": "2024-09-13T08:05:50.560827Z",
     "iopub.status.idle": "2024-09-13T08:05:50.582255Z",
     "shell.execute_reply": "2024-09-13T08:05:50.580931Z",
     "shell.execute_reply.started": "2024-09-13T08:05:50.561196Z"
    }
   },
   "outputs": [
    {
     "data": {
      "text/html": [
       "<div>\n",
       "<style scoped>\n",
       "    .dataframe tbody tr th:only-of-type {\n",
       "        vertical-align: middle;\n",
       "    }\n",
       "\n",
       "    .dataframe tbody tr th {\n",
       "        vertical-align: top;\n",
       "    }\n",
       "\n",
       "    .dataframe thead th {\n",
       "        text-align: right;\n",
       "    }\n",
       "</style>\n",
       "<table border=\"1\" class=\"dataframe\">\n",
       "  <thead>\n",
       "    <tr style=\"text-align: right;\">\n",
       "      <th></th>\n",
       "      <th>Embarked</th>\n",
       "      <th>Survived</th>\n",
       "    </tr>\n",
       "  </thead>\n",
       "  <tbody>\n",
       "    <tr>\n",
       "      <th>0</th>\n",
       "      <td>C</td>\n",
       "      <td>0.553571</td>\n",
       "    </tr>\n",
       "    <tr>\n",
       "      <th>1</th>\n",
       "      <td>Q</td>\n",
       "      <td>0.389610</td>\n",
       "    </tr>\n",
       "    <tr>\n",
       "      <th>2</th>\n",
       "      <td>S</td>\n",
       "      <td>0.339009</td>\n",
       "    </tr>\n",
       "  </tbody>\n",
       "</table>\n",
       "</div>"
      ],
      "text/plain": [
       "  Embarked  Survived\n",
       "0        C  0.553571\n",
       "1        Q  0.389610\n",
       "2        S  0.339009"
      ]
     },
     "execution_count": 37,
     "metadata": {},
     "output_type": "execute_result"
    }
   ],
   "source": [
    "freq_port = train_df.Embarked.dropna().mode()[0] \n",
    "for dataset in combine:\n",
    "    dataset['Embarked'] = dataset['Embarked'].fillna(freq_port)\n",
    "    \n",
    "train_df[['Embarked', 'Survived']].groupby(['Embarked'], as_index=False).mean().sort_values(by='Survived', ascending=False)"
   ]
  },
  {
   "cell_type": "code",
   "execution_count": 38,
   "id": "d84cd40f",
   "metadata": {
    "execution": {
     "iopub.execute_input": "2024-09-13T08:05:50.584536Z",
     "iopub.status.busy": "2024-09-13T08:05:50.583987Z",
     "iopub.status.idle": "2024-09-13T08:05:50.608924Z",
     "shell.execute_reply": "2024-09-13T08:05:50.607586Z",
     "shell.execute_reply.started": "2024-09-13T08:05:50.584456Z"
    },
    "scrolled": true
   },
   "outputs": [
    {
     "data": {
      "text/html": [
       "<div>\n",
       "<style scoped>\n",
       "    .dataframe tbody tr th:only-of-type {\n",
       "        vertical-align: middle;\n",
       "    }\n",
       "\n",
       "    .dataframe tbody tr th {\n",
       "        vertical-align: top;\n",
       "    }\n",
       "\n",
       "    .dataframe thead th {\n",
       "        text-align: right;\n",
       "    }\n",
       "</style>\n",
       "<table border=\"1\" class=\"dataframe\">\n",
       "  <thead>\n",
       "    <tr style=\"text-align: right;\">\n",
       "      <th></th>\n",
       "      <th>Survived</th>\n",
       "      <th>Pclass</th>\n",
       "      <th>Sex</th>\n",
       "      <th>Age</th>\n",
       "      <th>Fare</th>\n",
       "      <th>Embarked</th>\n",
       "      <th>Title</th>\n",
       "      <th>IsAlone</th>\n",
       "      <th>Age*Pclass</th>\n",
       "    </tr>\n",
       "  </thead>\n",
       "  <tbody>\n",
       "    <tr>\n",
       "      <th>0</th>\n",
       "      <td>0</td>\n",
       "      <td>3</td>\n",
       "      <td>0</td>\n",
       "      <td>22</td>\n",
       "      <td>7.2500</td>\n",
       "      <td>0</td>\n",
       "      <td>1</td>\n",
       "      <td>0</td>\n",
       "      <td>66</td>\n",
       "    </tr>\n",
       "    <tr>\n",
       "      <th>1</th>\n",
       "      <td>1</td>\n",
       "      <td>1</td>\n",
       "      <td>1</td>\n",
       "      <td>38</td>\n",
       "      <td>71.2833</td>\n",
       "      <td>1</td>\n",
       "      <td>3</td>\n",
       "      <td>0</td>\n",
       "      <td>38</td>\n",
       "    </tr>\n",
       "    <tr>\n",
       "      <th>2</th>\n",
       "      <td>1</td>\n",
       "      <td>3</td>\n",
       "      <td>1</td>\n",
       "      <td>26</td>\n",
       "      <td>7.9250</td>\n",
       "      <td>0</td>\n",
       "      <td>2</td>\n",
       "      <td>1</td>\n",
       "      <td>78</td>\n",
       "    </tr>\n",
       "    <tr>\n",
       "      <th>3</th>\n",
       "      <td>1</td>\n",
       "      <td>1</td>\n",
       "      <td>1</td>\n",
       "      <td>35</td>\n",
       "      <td>53.1000</td>\n",
       "      <td>0</td>\n",
       "      <td>3</td>\n",
       "      <td>0</td>\n",
       "      <td>35</td>\n",
       "    </tr>\n",
       "    <tr>\n",
       "      <th>4</th>\n",
       "      <td>0</td>\n",
       "      <td>3</td>\n",
       "      <td>0</td>\n",
       "      <td>35</td>\n",
       "      <td>8.0500</td>\n",
       "      <td>0</td>\n",
       "      <td>1</td>\n",
       "      <td>1</td>\n",
       "      <td>105</td>\n",
       "    </tr>\n",
       "  </tbody>\n",
       "</table>\n",
       "</div>"
      ],
      "text/plain": [
       "   Survived  Pclass  Sex  Age     Fare  Embarked  Title  IsAlone  Age*Pclass\n",
       "0         0       3    0   22   7.2500         0      1        0          66\n",
       "1         1       1    1   38  71.2833         1      3        0          38\n",
       "2         1       3    1   26   7.9250         0      2        1          78\n",
       "3         1       1    1   35  53.1000         0      3        0          35\n",
       "4         0       3    0   35   8.0500         0      1        1         105"
      ]
     },
     "execution_count": 38,
     "metadata": {},
     "output_type": "execute_result"
    }
   ],
   "source": [
    "# 同样转换分类特征为序数\n",
    "for dataset in combine:\n",
    "    dataset['Embarked'] = dataset['Embarked'].map( {'S': 0, 'C': 1, 'Q': 2} ).astype(int)\n",
    "\n",
    "train_df.head()"
   ]
  },
  {
   "cell_type": "markdown",
   "id": "81a0c814",
   "metadata": {},
   "source": [
    "**对票价Fare进行分箱并替换为序数**"
   ]
  },
  {
   "cell_type": "code",
   "execution_count": 39,
   "id": "86189a2a",
   "metadata": {
    "execution": {
     "iopub.execute_input": "2024-09-13T08:05:50.610894Z",
     "iopub.status.busy": "2024-09-13T08:05:50.610382Z",
     "iopub.status.idle": "2024-09-13T08:05:50.631883Z",
     "shell.execute_reply": "2024-09-13T08:05:50.630725Z",
     "shell.execute_reply.started": "2024-09-13T08:05:50.610830Z"
    }
   },
   "outputs": [
    {
     "data": {
      "text/html": [
       "<div>\n",
       "<style scoped>\n",
       "    .dataframe tbody tr th:only-of-type {\n",
       "        vertical-align: middle;\n",
       "    }\n",
       "\n",
       "    .dataframe tbody tr th {\n",
       "        vertical-align: top;\n",
       "    }\n",
       "\n",
       "    .dataframe thead th {\n",
       "        text-align: right;\n",
       "    }\n",
       "</style>\n",
       "<table border=\"1\" class=\"dataframe\">\n",
       "  <thead>\n",
       "    <tr style=\"text-align: right;\">\n",
       "      <th></th>\n",
       "      <th>PassengerId</th>\n",
       "      <th>Pclass</th>\n",
       "      <th>Sex</th>\n",
       "      <th>Age</th>\n",
       "      <th>Fare</th>\n",
       "      <th>Embarked</th>\n",
       "      <th>Title</th>\n",
       "      <th>IsAlone</th>\n",
       "      <th>Age*Pclass</th>\n",
       "    </tr>\n",
       "  </thead>\n",
       "  <tbody>\n",
       "    <tr>\n",
       "      <th>0</th>\n",
       "      <td>892</td>\n",
       "      <td>3</td>\n",
       "      <td>0</td>\n",
       "      <td>34</td>\n",
       "      <td>7.8292</td>\n",
       "      <td>2</td>\n",
       "      <td>1</td>\n",
       "      <td>1</td>\n",
       "      <td>102</td>\n",
       "    </tr>\n",
       "    <tr>\n",
       "      <th>1</th>\n",
       "      <td>893</td>\n",
       "      <td>3</td>\n",
       "      <td>1</td>\n",
       "      <td>47</td>\n",
       "      <td>7.0000</td>\n",
       "      <td>0</td>\n",
       "      <td>3</td>\n",
       "      <td>0</td>\n",
       "      <td>141</td>\n",
       "    </tr>\n",
       "    <tr>\n",
       "      <th>2</th>\n",
       "      <td>894</td>\n",
       "      <td>2</td>\n",
       "      <td>0</td>\n",
       "      <td>62</td>\n",
       "      <td>9.6875</td>\n",
       "      <td>2</td>\n",
       "      <td>1</td>\n",
       "      <td>1</td>\n",
       "      <td>124</td>\n",
       "    </tr>\n",
       "    <tr>\n",
       "      <th>3</th>\n",
       "      <td>895</td>\n",
       "      <td>3</td>\n",
       "      <td>0</td>\n",
       "      <td>27</td>\n",
       "      <td>8.6625</td>\n",
       "      <td>0</td>\n",
       "      <td>1</td>\n",
       "      <td>1</td>\n",
       "      <td>81</td>\n",
       "    </tr>\n",
       "    <tr>\n",
       "      <th>4</th>\n",
       "      <td>896</td>\n",
       "      <td>3</td>\n",
       "      <td>1</td>\n",
       "      <td>22</td>\n",
       "      <td>12.2875</td>\n",
       "      <td>0</td>\n",
       "      <td>3</td>\n",
       "      <td>0</td>\n",
       "      <td>66</td>\n",
       "    </tr>\n",
       "  </tbody>\n",
       "</table>\n",
       "</div>"
      ],
      "text/plain": [
       "   PassengerId  Pclass  Sex  Age     Fare  Embarked  Title  IsAlone  \\\n",
       "0          892       3    0   34   7.8292         2      1        1   \n",
       "1          893       3    1   47   7.0000         0      3        0   \n",
       "2          894       2    0   62   9.6875         2      1        1   \n",
       "3          895       3    0   27   8.6625         0      1        1   \n",
       "4          896       3    1   22  12.2875         0      3        0   \n",
       "\n",
       "   Age*Pclass  \n",
       "0         102  \n",
       "1         141  \n",
       "2         124  \n",
       "3          81  \n",
       "4          66  "
      ]
     },
     "execution_count": 39,
     "metadata": {},
     "output_type": "execute_result"
    }
   ],
   "source": [
    "# 测试集中Fare有一个缺失值，用中位数进行填补\n",
    "test_df['Fare'].fillna(test_df['Fare'].dropna().median(), inplace=True)\n",
    "test_df.head()"
   ]
  },
  {
   "cell_type": "code",
   "execution_count": 40,
   "id": "a8f40954",
   "metadata": {
    "execution": {
     "iopub.execute_input": "2024-09-13T08:05:50.634333Z",
     "iopub.status.busy": "2024-09-13T08:05:50.633519Z",
     "iopub.status.idle": "2024-09-13T08:05:50.866072Z",
     "shell.execute_reply": "2024-09-13T08:05:50.864842Z",
     "shell.execute_reply.started": "2024-09-13T08:05:50.634278Z"
    }
   },
   "outputs": [
    {
     "data": {
      "text/plain": [
       "(array([732., 106.,  31.,   2.,  11.,   6.,   0.,   0.,   0.,   3.]),\n",
       " array([  0.     ,  51.23292, 102.46584, 153.69876, 204.93168, 256.1646 ,\n",
       "        307.39752, 358.63044, 409.86336, 461.09628, 512.3292 ]),\n",
       " <BarContainer object of 10 artists>)"
      ]
     },
     "execution_count": 40,
     "metadata": {},
     "output_type": "execute_result"
    },
    {
     "data": {
      "image/png": "[encoded data removed]",
      "text/plain": [
       "<Figure size 640x480 with 1 Axes>"
      ]
     },
     "metadata": {},
     "output_type": "display_data"
    }
   ],
   "source": [
    "plt.hist(train_df['Fare'])"
   ]
  },
  {
   "cell_type": "code",
   "execution_count": 41,
   "id": "f98b5118",
   "metadata": {
    "execution": {
     "iopub.execute_input": "2024-09-13T08:05:50.867988Z",
     "iopub.status.busy": "2024-09-13T08:05:50.867608Z",
     "iopub.status.idle": "2024-09-13T08:05:50.890848Z",
     "shell.execute_reply": "2024-09-13T08:05:50.889591Z",
     "shell.execute_reply.started": "2024-09-13T08:05:50.867948Z"
    }
   },
   "outputs": [
    {
     "data": {
      "text/html": [
       "<div>\n",
       "<style scoped>\n",
       "    .dataframe tbody tr th:only-of-type {\n",
       "        vertical-align: middle;\n",
       "    }\n",
       "\n",
       "    .dataframe tbody tr th {\n",
       "        vertical-align: top;\n",
       "    }\n",
       "\n",
       "    .dataframe thead th {\n",
       "        text-align: right;\n",
       "    }\n",
       "</style>\n",
       "<table border=\"1\" class=\"dataframe\">\n",
       "  <thead>\n",
       "    <tr style=\"text-align: right;\">\n",
       "      <th></th>\n",
       "      <th>FareBand</th>\n",
       "      <th>Survived</th>\n",
       "    </tr>\n",
       "  </thead>\n",
       "  <tbody>\n",
       "    <tr>\n",
       "      <th>0</th>\n",
       "      <td>(-0.001, 7.91]</td>\n",
       "      <td>0.197309</td>\n",
       "    </tr>\n",
       "    <tr>\n",
       "      <th>1</th>\n",
       "      <td>(7.91, 14.454]</td>\n",
       "      <td>0.303571</td>\n",
       "    </tr>\n",
       "    <tr>\n",
       "      <th>2</th>\n",
       "      <td>(14.454, 31.0]</td>\n",
       "      <td>0.454955</td>\n",
       "    </tr>\n",
       "    <tr>\n",
       "      <th>3</th>\n",
       "      <td>(31.0, 512.329]</td>\n",
       "      <td>0.581081</td>\n",
       "    </tr>\n",
       "  </tbody>\n",
       "</table>\n",
       "</div>"
      ],
      "text/plain": [
       "          FareBand  Survived\n",
       "0   (-0.001, 7.91]  0.197309\n",
       "1   (7.91, 14.454]  0.303571\n",
       "2   (14.454, 31.0]  0.454955\n",
       "3  (31.0, 512.329]  0.581081"
      ]
     },
     "execution_count": 41,
     "metadata": {},
     "output_type": "execute_result"
    }
   ],
   "source": [
    "train_df['FareBand'] = pd.qcut(train_df['Fare'], 4)  # 根据样本分位数进行分箱，等频分箱\n",
    "train_df[['FareBand', 'Survived']].groupby(['FareBand'], as_index=False).mean().sort_values(by='FareBand', ascending=True)"
   ]
  },
  {
   "cell_type": "code",
   "execution_count": 42,
   "id": "df594644",
   "metadata": {
    "execution": {
     "iopub.execute_input": "2024-09-13T08:05:50.892472Z",
     "iopub.status.busy": "2024-09-13T08:05:50.892137Z",
     "iopub.status.idle": "2024-09-13T08:05:50.919251Z",
     "shell.execute_reply": "2024-09-13T08:05:50.917548Z",
     "shell.execute_reply.started": "2024-09-13T08:05:50.892437Z"
    }
   },
   "outputs": [
    {
     "data": {
      "text/html": [
       "<div>\n",
       "<style scoped>\n",
       "    .dataframe tbody tr th:only-of-type {\n",
       "        vertical-align: middle;\n",
       "    }\n",
       "\n",
       "    .dataframe tbody tr th {\n",
       "        vertical-align: top;\n",
       "    }\n",
       "\n",
       "    .dataframe thead th {\n",
       "        text-align: right;\n",
       "    }\n",
       "</style>\n",
       "<table border=\"1\" class=\"dataframe\">\n",
       "  <thead>\n",
       "    <tr style=\"text-align: right;\">\n",
       "      <th></th>\n",
       "      <th>Survived</th>\n",
       "      <th>Pclass</th>\n",
       "      <th>Sex</th>\n",
       "      <th>Age</th>\n",
       "      <th>Fare</th>\n",
       "      <th>Embarked</th>\n",
       "      <th>Title</th>\n",
       "      <th>IsAlone</th>\n",
       "      <th>Age*Pclass</th>\n",
       "    </tr>\n",
       "  </thead>\n",
       "  <tbody>\n",
       "    <tr>\n",
       "      <th>0</th>\n",
       "      <td>0</td>\n",
       "      <td>3</td>\n",
       "      <td>0</td>\n",
       "      <td>22</td>\n",
       "      <td>0</td>\n",
       "      <td>0</td>\n",
       "      <td>1</td>\n",
       "      <td>0</td>\n",
       "      <td>66</td>\n",
       "    </tr>\n",
       "    <tr>\n",
       "      <th>1</th>\n",
       "      <td>1</td>\n",
       "      <td>1</td>\n",
       "      <td>1</td>\n",
       "      <td>38</td>\n",
       "      <td>3</td>\n",
       "      <td>1</td>\n",
       "      <td>3</td>\n",
       "      <td>0</td>\n",
       "      <td>38</td>\n",
       "    </tr>\n",
       "    <tr>\n",
       "      <th>2</th>\n",
       "      <td>1</td>\n",
       "      <td>3</td>\n",
       "      <td>1</td>\n",
       "      <td>26</td>\n",
       "      <td>1</td>\n",
       "      <td>0</td>\n",
       "      <td>2</td>\n",
       "      <td>1</td>\n",
       "      <td>78</td>\n",
       "    </tr>\n",
       "    <tr>\n",
       "      <th>3</th>\n",
       "      <td>1</td>\n",
       "      <td>1</td>\n",
       "      <td>1</td>\n",
       "      <td>35</td>\n",
       "      <td>3</td>\n",
       "      <td>0</td>\n",
       "      <td>3</td>\n",
       "      <td>0</td>\n",
       "      <td>35</td>\n",
       "    </tr>\n",
       "    <tr>\n",
       "      <th>4</th>\n",
       "      <td>0</td>\n",
       "      <td>3</td>\n",
       "      <td>0</td>\n",
       "      <td>35</td>\n",
       "      <td>1</td>\n",
       "      <td>0</td>\n",
       "      <td>1</td>\n",
       "      <td>1</td>\n",
       "      <td>105</td>\n",
       "    </tr>\n",
       "    <tr>\n",
       "      <th>5</th>\n",
       "      <td>0</td>\n",
       "      <td>3</td>\n",
       "      <td>0</td>\n",
       "      <td>25</td>\n",
       "      <td>1</td>\n",
       "      <td>2</td>\n",
       "      <td>1</td>\n",
       "      <td>1</td>\n",
       "      <td>75</td>\n",
       "    </tr>\n",
       "    <tr>\n",
       "      <th>6</th>\n",
       "      <td>0</td>\n",
       "      <td>1</td>\n",
       "      <td>0</td>\n",
       "      <td>54</td>\n",
       "      <td>3</td>\n",
       "      <td>0</td>\n",
       "      <td>1</td>\n",
       "      <td>1</td>\n",
       "      <td>54</td>\n",
       "    </tr>\n",
       "    <tr>\n",
       "      <th>7</th>\n",
       "      <td>0</td>\n",
       "      <td>3</td>\n",
       "      <td>0</td>\n",
       "      <td>2</td>\n",
       "      <td>2</td>\n",
       "      <td>0</td>\n",
       "      <td>4</td>\n",
       "      <td>0</td>\n",
       "      <td>6</td>\n",
       "    </tr>\n",
       "    <tr>\n",
       "      <th>8</th>\n",
       "      <td>1</td>\n",
       "      <td>3</td>\n",
       "      <td>1</td>\n",
       "      <td>27</td>\n",
       "      <td>1</td>\n",
       "      <td>0</td>\n",
       "      <td>3</td>\n",
       "      <td>0</td>\n",
       "      <td>81</td>\n",
       "    </tr>\n",
       "    <tr>\n",
       "      <th>9</th>\n",
       "      <td>1</td>\n",
       "      <td>2</td>\n",
       "      <td>1</td>\n",
       "      <td>14</td>\n",
       "      <td>2</td>\n",
       "      <td>1</td>\n",
       "      <td>3</td>\n",
       "      <td>0</td>\n",
       "      <td>28</td>\n",
       "    </tr>\n",
       "  </tbody>\n",
       "</table>\n",
       "</div>"
      ],
      "text/plain": [
       "   Survived  Pclass  Sex  Age  Fare  Embarked  Title  IsAlone  Age*Pclass\n",
       "0         0       3    0   22     0         0      1        0          66\n",
       "1         1       1    1   38     3         1      3        0          38\n",
       "2         1       3    1   26     1         0      2        1          78\n",
       "3         1       1    1   35     3         0      3        0          35\n",
       "4         0       3    0   35     1         0      1        1         105\n",
       "5         0       3    0   25     1         2      1        1          75\n",
       "6         0       1    0   54     3         0      1        1          54\n",
       "7         0       3    0    2     2         0      4        0           6\n",
       "8         1       3    1   27     1         0      3        0          81\n",
       "9         1       2    1   14     2         1      3        0          28"
      ]
     },
     "execution_count": 42,
     "metadata": {},
     "output_type": "execute_result"
    }
   ],
   "source": [
    "for dataset in combine:\n",
    "    dataset.loc[ dataset['Fare'] <= 7.91, 'Fare'] = 0\n",
    "    dataset.loc[(dataset['Fare'] > 7.91) & (dataset['Fare'] <= 14.454), 'Fare'] = 1\n",
    "    dataset.loc[(dataset['Fare'] > 14.454) & (dataset['Fare'] <= 31), 'Fare']   = 2\n",
    "    dataset.loc[ dataset['Fare'] > 31, 'Fare'] = 3\n",
    "    dataset['Fare'] = dataset['Fare'].astype(int)\n",
    "\n",
    "train_df = train_df.drop(['FareBand'], axis=1)\n",
    "combine = [train_df, test_df]\n",
    "    \n",
    "train_df.head(10)"
   ]
  },
  {
   "cell_type": "code",
   "execution_count": 43,
   "id": "94058bac",
   "metadata": {
    "execution": {
     "iopub.execute_input": "2024-09-13T08:05:50.921223Z",
     "iopub.status.busy": "2024-09-13T08:05:50.920832Z",
     "iopub.status.idle": "2024-09-13T08:05:50.935283Z",
     "shell.execute_reply": "2024-09-13T08:05:50.933916Z",
     "shell.execute_reply.started": "2024-09-13T08:05:50.921182Z"
    }
   },
   "outputs": [
    {
     "data": {
      "text/html": [
       "<div>\n",
       "<style scoped>\n",
       "    .dataframe tbody tr th:only-of-type {\n",
       "        vertical-align: middle;\n",
       "    }\n",
       "\n",
       "    .dataframe tbody tr th {\n",
       "        vertical-align: top;\n",
       "    }\n",
       "\n",
       "    .dataframe thead th {\n",
       "        text-align: right;\n",
       "    }\n",
       "</style>\n",
       "<table border=\"1\" class=\"dataframe\">\n",
       "  <thead>\n",
       "    <tr style=\"text-align: right;\">\n",
       "      <th></th>\n",
       "      <th>PassengerId</th>\n",
       "      <th>Pclass</th>\n",
       "      <th>Sex</th>\n",
       "      <th>Age</th>\n",
       "      <th>Fare</th>\n",
       "      <th>Embarked</th>\n",
       "      <th>Title</th>\n",
       "      <th>IsAlone</th>\n",
       "      <th>Age*Pclass</th>\n",
       "    </tr>\n",
       "  </thead>\n",
       "  <tbody>\n",
       "    <tr>\n",
       "      <th>0</th>\n",
       "      <td>892</td>\n",
       "      <td>3</td>\n",
       "      <td>0</td>\n",
       "      <td>34</td>\n",
       "      <td>0</td>\n",
       "      <td>2</td>\n",
       "      <td>1</td>\n",
       "      <td>1</td>\n",
       "      <td>102</td>\n",
       "    </tr>\n",
       "    <tr>\n",
       "      <th>1</th>\n",
       "      <td>893</td>\n",
       "      <td>3</td>\n",
       "      <td>1</td>\n",
       "      <td>47</td>\n",
       "      <td>0</td>\n",
       "      <td>0</td>\n",
       "      <td>3</td>\n",
       "      <td>0</td>\n",
       "      <td>141</td>\n",
       "    </tr>\n",
       "    <tr>\n",
       "      <th>2</th>\n",
       "      <td>894</td>\n",
       "      <td>2</td>\n",
       "      <td>0</td>\n",
       "      <td>62</td>\n",
       "      <td>1</td>\n",
       "      <td>2</td>\n",
       "      <td>1</td>\n",
       "      <td>1</td>\n",
       "      <td>124</td>\n",
       "    </tr>\n",
       "    <tr>\n",
       "      <th>3</th>\n",
       "      <td>895</td>\n",
       "      <td>3</td>\n",
       "      <td>0</td>\n",
       "      <td>27</td>\n",
       "      <td>1</td>\n",
       "      <td>0</td>\n",
       "      <td>1</td>\n",
       "      <td>1</td>\n",
       "      <td>81</td>\n",
       "    </tr>\n",
       "    <tr>\n",
       "      <th>4</th>\n",
       "      <td>896</td>\n",
       "      <td>3</td>\n",
       "      <td>1</td>\n",
       "      <td>22</td>\n",
       "      <td>1</td>\n",
       "      <td>0</td>\n",
       "      <td>3</td>\n",
       "      <td>0</td>\n",
       "      <td>66</td>\n",
       "    </tr>\n",
       "    <tr>\n",
       "      <th>5</th>\n",
       "      <td>897</td>\n",
       "      <td>3</td>\n",
       "      <td>0</td>\n",
       "      <td>14</td>\n",
       "      <td>1</td>\n",
       "      <td>0</td>\n",
       "      <td>1</td>\n",
       "      <td>1</td>\n",
       "      <td>42</td>\n",
       "    </tr>\n",
       "    <tr>\n",
       "      <th>6</th>\n",
       "      <td>898</td>\n",
       "      <td>3</td>\n",
       "      <td>1</td>\n",
       "      <td>30</td>\n",
       "      <td>0</td>\n",
       "      <td>2</td>\n",
       "      <td>2</td>\n",
       "      <td>1</td>\n",
       "      <td>90</td>\n",
       "    </tr>\n",
       "    <tr>\n",
       "      <th>7</th>\n",
       "      <td>899</td>\n",
       "      <td>2</td>\n",
       "      <td>0</td>\n",
       "      <td>26</td>\n",
       "      <td>2</td>\n",
       "      <td>0</td>\n",
       "      <td>1</td>\n",
       "      <td>0</td>\n",
       "      <td>52</td>\n",
       "    </tr>\n",
       "    <tr>\n",
       "      <th>8</th>\n",
       "      <td>900</td>\n",
       "      <td>3</td>\n",
       "      <td>1</td>\n",
       "      <td>18</td>\n",
       "      <td>0</td>\n",
       "      <td>1</td>\n",
       "      <td>3</td>\n",
       "      <td>1</td>\n",
       "      <td>54</td>\n",
       "    </tr>\n",
       "    <tr>\n",
       "      <th>9</th>\n",
       "      <td>901</td>\n",
       "      <td>3</td>\n",
       "      <td>0</td>\n",
       "      <td>21</td>\n",
       "      <td>2</td>\n",
       "      <td>0</td>\n",
       "      <td>1</td>\n",
       "      <td>0</td>\n",
       "      <td>63</td>\n",
       "    </tr>\n",
       "  </tbody>\n",
       "</table>\n",
       "</div>"
      ],
      "text/plain": [
       "   PassengerId  Pclass  Sex  Age  Fare  Embarked  Title  IsAlone  Age*Pclass\n",
       "0          892       3    0   34     0         2      1        1         102\n",
       "1          893       3    1   47     0         0      3        0         141\n",
       "2          894       2    0   62     1         2      1        1         124\n",
       "3          895       3    0   27     1         0      1        1          81\n",
       "4          896       3    1   22     1         0      3        0          66\n",
       "5          897       3    0   14     1         0      1        1          42\n",
       "6          898       3    1   30     0         2      2        1          90\n",
       "7          899       2    0   26     2         0      1        0          52\n",
       "8          900       3    1   18     0         1      3        1          54\n",
       "9          901       3    0   21     2         0      1        0          63"
      ]
     },
     "execution_count": 43,
     "metadata": {},
     "output_type": "execute_result"
    }
   ],
   "source": [
    "test_df.head(10)"
   ]
  },
  {
   "cell_type": "code",
   "execution_count": 44,
   "id": "0dd4bb54",
   "metadata": {},
   "outputs": [
    {
     "name": "stdout",
     "output_type": "stream",
     "text": [
      "              Pclass       Sex       Age  Embarked     Title      Fare  \\\n",
      "Pclass      1.000000 -0.131900 -0.414682  0.045702 -0.173929 -0.628459   \n",
      "Sex        -0.131900  1.000000 -0.104584  0.116569  0.502713  0.248940   \n",
      "Age        -0.414682 -0.104584  1.000000 -0.059221 -0.093425  0.124356   \n",
      "Embarked    0.045702  0.116569 -0.059221  1.000000  0.045400 -0.091096   \n",
      "Title      -0.173929  0.502713 -0.093425  0.045400  1.000000  0.341665   \n",
      "Fare       -0.628459  0.248940  0.124356 -0.091096  0.341665  1.000000   \n",
      "IsAlone     0.135207 -0.303646  0.175791  0.017807 -0.405813 -0.568942   \n",
      "Age*Pclass  0.471085 -0.203422  0.544952 -0.043875 -0.268732 -0.447764   \n",
      "Survived   -0.338481  0.543351 -0.060291  0.106811  0.407753  0.295875   \n",
      "\n",
      "             IsAlone  Age*Pclass  Survived  \n",
      "Pclass      0.135207    0.471085 -0.338481  \n",
      "Sex        -0.303646   -0.203422  0.543351  \n",
      "Age         0.175791    0.544952 -0.060291  \n",
      "Embarked    0.017807   -0.043875  0.106811  \n",
      "Title      -0.405813   -0.268732  0.407753  \n",
      "Fare       -0.568942   -0.447764  0.295875  \n",
      "IsAlone     1.000000    0.292730 -0.203367  \n",
      "Age*Pclass  0.292730    1.000000 -0.332327  \n",
      "Survived   -0.203367   -0.332327  1.000000  \n"
     ]
    },
    {
     "data": {
      "image/png": "[encoded data removed]",
      "text/plain": [
       "<Figure size 640x480 with 2 Axes>"
      ]
     },
     "metadata": {},
     "output_type": "display_data"
    }
   ],
   "source": [
    "import seaborn\n",
    "df = train_df[['Pclass', 'Sex', 'Age', 'Embarked', 'Title', 'Fare', 'IsAlone','Age*Pclass','Survived']]\n",
    "\n",
    "\n",
    "# 属性间相关系数\n",
    "cor = df.corr()\n",
    "print(cor)\n",
    "# 属性间相关系数热力图\n",
    "seaborn.heatmap(cor, cmap=\"YlGnBu\", annot=True)\n",
    "plt.show()"
   ]
  },
  {
   "cell_type": "markdown",
   "id": "a0a5bf09",
   "metadata": {},
   "source": [
    "数据的相关性分析可以探查属性间的相关性，查看属性是否存在冗余；另外通过探寻各属性和结果属性的关系，进而选择和结果相关性较大的属性，作为建模的重要特征，"
   ]
  },
  {
   "cell_type": "markdown",
   "id": "97039547",
   "metadata": {},
   "source": [
    "### （7）构建模型并预测结果\n",
    " 我们的问题是想确定输出（幸存与否）与其他变量或特征（性别、年龄、票价等级...）之间的关系，这属于典型的分类和回归问题。 \n",
    " \n",
    " 当使用给定的数据集训练我们的模型时，我们称为监督式学习的机器学习。这样，模型主要有：\n",
    "\n",
    "- 逻辑回归\n",
    "- 支持向量机\n",
    "- KNN 或 k-最近邻\n",
    "- 朴素贝叶斯分类器\n",
    "- 决策树\n",
    "- 随机森林\n",
    "- 感知机\n",
    "- 人工神经网络\n",
    "- RVM 或相关向量机 "
   ]
  },
  {
   "cell_type": "code",
   "execution_count": 45,
   "id": "df092575",
   "metadata": {
    "execution": {
     "iopub.execute_input": "2024-09-13T08:05:50.944117Z",
     "iopub.status.busy": "2024-09-13T08:05:50.943719Z",
     "iopub.status.idle": "2024-09-13T08:05:50.955569Z",
     "shell.execute_reply": "2024-09-13T08:05:50.954432Z",
     "shell.execute_reply.started": "2024-09-13T08:05:50.944080Z"
    }
   },
   "outputs": [
    {
     "data": {
      "text/plain": [
       "((891, 8), (891,), (418, 8))"
      ]
     },
     "execution_count": 45,
     "metadata": {},
     "output_type": "execute_result"
    }
   ],
   "source": [
    "X_train = train_df.drop(\"Survived\", axis=1)\n",
    "Y_train = train_df[\"Survived\"]\n",
    "X_test  = test_df.drop(\"PassengerId\", axis=1).copy()\n",
    "X_train.shape, Y_train.shape, X_test.shape"
   ]
  },
  {
   "cell_type": "markdown",
   "id": "b87d6309",
   "metadata": {},
   "source": [
    "**逻辑回归**\n",
    "\n",
    "逻辑回归是以线性回归为理论支持，但又通过sigmoid函数（逻辑回归函数）引入非线性因素，用来测量分类因变量和一个或多个自变量关系的模型，最常见的就是用来处理二分类问题。我们关注模型基于训练集生成的置信度分数。 "
   ]
  },
  {
   "cell_type": "code",
   "execution_count": 46,
   "id": "71015ed0",
   "metadata": {
    "execution": {
     "iopub.execute_input": "2024-09-13T08:05:50.957407Z",
     "iopub.status.busy": "2024-09-13T08:05:50.956949Z",
     "iopub.status.idle": "2024-09-13T08:05:50.993362Z",
     "shell.execute_reply": "2024-09-13T08:05:50.992260Z",
     "shell.execute_reply.started": "2024-09-13T08:05:50.957366Z"
    }
   },
   "outputs": [
    {
     "data": {
      "text/plain": [
       "80.58"
      ]
     },
     "execution_count": 46,
     "metadata": {},
     "output_type": "execute_result"
    }
   ],
   "source": [
    "# 逻辑回归模型\n",
    "logreg = LogisticRegression()\n",
    "logreg.fit(X_train, Y_train)\n",
    "Y_pred = logreg.predict(X_test)  # logreg.predict_proba(X_test)[:,1]\n",
    "acc_log = round(logreg.score(X_train, Y_train) * 100, 2)\n",
    "acc_log"
   ]
  },
  {
   "cell_type": "code",
   "execution_count": 47,
   "id": "1f97e082",
   "metadata": {
    "execution": {
     "iopub.execute_input": "2024-09-13T08:05:50.995117Z",
     "iopub.status.busy": "2024-09-13T08:05:50.994729Z",
     "iopub.status.idle": "2024-09-13T08:05:51.010480Z",
     "shell.execute_reply": "2024-09-13T08:05:51.009257Z",
     "shell.execute_reply.started": "2024-09-13T08:05:50.995077Z"
    }
   },
   "outputs": [
    {
     "data": {
      "text/html": [
       "<div>\n",
       "<style scoped>\n",
       "    .dataframe tbody tr th:only-of-type {\n",
       "        vertical-align: middle;\n",
       "    }\n",
       "\n",
       "    .dataframe tbody tr th {\n",
       "        vertical-align: top;\n",
       "    }\n",
       "\n",
       "    .dataframe thead th {\n",
       "        text-align: right;\n",
       "    }\n",
       "</style>\n",
       "<table border=\"1\" class=\"dataframe\">\n",
       "  <thead>\n",
       "    <tr style=\"text-align: right;\">\n",
       "      <th></th>\n",
       "      <th>Feature</th>\n",
       "      <th>Correlation</th>\n",
       "    </tr>\n",
       "  </thead>\n",
       "  <tbody>\n",
       "    <tr>\n",
       "      <th>1</th>\n",
       "      <td>Sex</td>\n",
       "      <td>2.196554</td>\n",
       "    </tr>\n",
       "    <tr>\n",
       "      <th>6</th>\n",
       "      <td>IsAlone</td>\n",
       "      <td>0.496578</td>\n",
       "    </tr>\n",
       "    <tr>\n",
       "      <th>5</th>\n",
       "      <td>Title</td>\n",
       "      <td>0.426624</td>\n",
       "    </tr>\n",
       "    <tr>\n",
       "      <th>4</th>\n",
       "      <td>Embarked</td>\n",
       "      <td>0.283621</td>\n",
       "    </tr>\n",
       "    <tr>\n",
       "      <th>3</th>\n",
       "      <td>Fare</td>\n",
       "      <td>0.108114</td>\n",
       "    </tr>\n",
       "    <tr>\n",
       "      <th>7</th>\n",
       "      <td>Age*Pclass</td>\n",
       "      <td>-0.003974</td>\n",
       "    </tr>\n",
       "    <tr>\n",
       "      <th>2</th>\n",
       "      <td>Age</td>\n",
       "      <td>-0.023776</td>\n",
       "    </tr>\n",
       "    <tr>\n",
       "      <th>0</th>\n",
       "      <td>Pclass</td>\n",
       "      <td>-0.965839</td>\n",
       "    </tr>\n",
       "  </tbody>\n",
       "</table>\n",
       "</div>"
      ],
      "text/plain": [
       "      Feature  Correlation\n",
       "1         Sex     2.196554\n",
       "6     IsAlone     0.496578\n",
       "5       Title     0.426624\n",
       "4    Embarked     0.283621\n",
       "3        Fare     0.108114\n",
       "7  Age*Pclass    -0.003974\n",
       "2         Age    -0.023776\n",
       "0      Pclass    -0.965839"
      ]
     },
     "execution_count": 47,
     "metadata": {},
     "output_type": "execute_result"
    }
   ],
   "source": [
    "coeff_df = pd.DataFrame(train_df.columns.delete(0))\n",
    "coeff_df.columns = ['Feature']\n",
    "coeff_df[\"Correlation\"] = pd.Series(logreg.coef_[0])\n",
    "coeff_df.sort_values(by='Correlation', ascending=False)"
   ]
  },
  {
   "cell_type": "markdown",
   "id": "0c3fd7b8",
   "metadata": {},
   "source": [
    "可以使用逻辑回归中特征的系数，来验证我们对特征创建和完成目标的假设正确与否。\n",
    "\n",
    "正系数会增加响应的对数几率（从而增加概率），而负系数会降低响应的对数几率（从而降低概率）。\n",
    "\n",
    "- Sex是最高的正系数，意味着随着性别值的增加（男性：0 到女性：1），Survived=1 的概率增加越多；\n",
    "- Title是第二高的正相关特征；\n",
    "- 相反，随着 Pclass 的增加，Survived=1 的概率降低越多；\n",
    "- Age是第二高的负相关特征，即随着年龄的增加，Survived=1 的概率降低越多，幸存概率越小；\n",
    "- Age * Pclass 对应系数绝对值较小，可能不是一个很好的人工特征。 "
   ]
  },
  {
   "cell_type": "markdown",
   "id": "1a3dbea5",
   "metadata": {},
   "source": [
    "**支持向量机**\n",
    "\n",
    "支持向量机是一类按监督学习方式对数据进行二元分类的广义线性分类器，它的决策边界是对学习样本求解的最大边距超平面。最为常见的就是通过核函数的方法进行非线性分类。可以看到，该模型生成的置信度得分高于逻辑回归模型。"
   ]
  },
  {
   "cell_type": "code",
   "execution_count": 48,
   "id": "93fff655",
   "metadata": {
    "execution": {
     "iopub.execute_input": "2024-09-13T08:05:51.012639Z",
     "iopub.status.busy": "2024-09-13T08:05:51.012129Z",
     "iopub.status.idle": "2024-09-13T08:05:51.081831Z",
     "shell.execute_reply": "2024-09-13T08:05:51.080287Z",
     "shell.execute_reply.started": "2024-09-13T08:05:51.012594Z"
    }
   },
   "outputs": [
    {
     "data": {
      "text/plain": [
       "70.93"
      ]
     },
     "execution_count": 48,
     "metadata": {},
     "output_type": "execute_result"
    }
   ],
   "source": [
    "# 支持向量机模型\n",
    "svc = SVC()\n",
    "svc.fit(X_train, Y_train)\n",
    "Y_pred = svc.predict(X_test)\n",
    "acc_svc = round(svc.score(X_train, Y_train) * 100, 2)\n",
    "acc_svc"
   ]
  },
  {
   "cell_type": "markdown",
   "id": "dafcc2de",
   "metadata": {},
   "source": [
    "**KNN**\n",
    "\n",
    "k近邻算法是一种用于分类和回归的非参数方法。其基本思想是：在特征空间中，如果一个样本附近的k个最近样本的大多数属于某一个类别，则该样本也属于这个类别。可以看到，KNN 置信度得分优于逻辑回归，和 SVM 得分一样。 "
   ]
  },
  {
   "cell_type": "code",
   "execution_count": 49,
   "id": "47ff105f",
   "metadata": {
    "execution": {
     "iopub.execute_input": "2024-09-13T08:05:51.084114Z",
     "iopub.status.busy": "2024-09-13T08:05:51.083370Z",
     "iopub.status.idle": "2024-09-13T08:05:51.180416Z",
     "shell.execute_reply": "2024-09-13T08:05:51.179111Z",
     "shell.execute_reply.started": "2024-09-13T08:05:51.084067Z"
    }
   },
   "outputs": [
    {
     "data": {
      "text/plain": [
       "87.99"
      ]
     },
     "execution_count": 49,
     "metadata": {},
     "output_type": "execute_result"
    }
   ],
   "source": [
    "# KNN\n",
    "knn = KNeighborsClassifier(n_neighbors = 3)\n",
    "knn.fit(X_train, Y_train)\n",
    "Y_pred = knn.predict(X_test)\n",
    "acc_knn = round(knn.score(X_train, Y_train) * 100, 2)\n",
    "acc_knn"
   ]
  },
  {
   "cell_type": "markdown",
   "id": "7ccde6bb",
   "metadata": {},
   "source": [
    "**朴素贝叶斯分类器**\n",
    "\n",
    "朴素贝叶斯分类器是一系列以假设特征之间强独立下运用贝叶斯定理为基础的简单概率分类器。模型生成的置信度得分是目前评估的模型中最低的。 "
   ]
  },
  {
   "cell_type": "code",
   "execution_count": 50,
   "id": "f5035662",
   "metadata": {
    "execution": {
     "iopub.execute_input": "2024-09-13T08:05:51.182637Z",
     "iopub.status.busy": "2024-09-13T08:05:51.182087Z",
     "iopub.status.idle": "2024-09-13T08:05:51.200779Z",
     "shell.execute_reply": "2024-09-13T08:05:51.199610Z",
     "shell.execute_reply.started": "2024-09-13T08:05:51.182578Z"
    }
   },
   "outputs": [
    {
     "data": {
      "text/plain": [
       "77.1"
      ]
     },
     "execution_count": 50,
     "metadata": {},
     "output_type": "execute_result"
    }
   ],
   "source": [
    "# 朴素贝叶斯分类器\n",
    "gaussian = GaussianNB()\n",
    "gaussian.fit(X_train, Y_train)\n",
    "Y_pred = gaussian.predict(X_test)\n",
    "acc_gaussian = round(gaussian.score(X_train, Y_train) * 100, 2)\n",
    "acc_gaussian"
   ]
  },
  {
   "cell_type": "markdown",
   "id": "05cf1dd9",
   "metadata": {},
   "source": [
    "**感知机**\n",
    "\n",
    "感知机 是一种用于监督学习二元分类器的算法（可以决定由数字向量表示的输入是否属于某个特定类的函数）。 它是一种线性分类器，即基于将一组权重与特征向量相结合的线性预测函数进行预测的分类算法。 "
   ]
  },
  {
   "cell_type": "code",
   "execution_count": 51,
   "id": "2d4926dc",
   "metadata": {
    "execution": {
     "iopub.execute_input": "2024-09-13T08:05:51.202723Z",
     "iopub.status.busy": "2024-09-13T08:05:51.202288Z",
     "iopub.status.idle": "2024-09-13T08:05:51.222245Z",
     "shell.execute_reply": "2024-09-13T08:05:51.221025Z",
     "shell.execute_reply.started": "2024-09-13T08:05:51.202679Z"
    }
   },
   "outputs": [
    {
     "data": {
      "text/plain": [
       "74.52"
      ]
     },
     "execution_count": 51,
     "metadata": {},
     "output_type": "execute_result"
    }
   ],
   "source": [
    "# 感知机\n",
    "perceptron = Perceptron()\n",
    "perceptron.fit(X_train, Y_train)\n",
    "Y_pred = perceptron.predict(X_test)\n",
    "acc_perceptron = round(perceptron.score(X_train, Y_train) * 100, 2)\n",
    "acc_perceptron"
   ]
  },
  {
   "cell_type": "code",
   "execution_count": 52,
   "id": "a6cf2b84",
   "metadata": {
    "execution": {
     "iopub.execute_input": "2024-09-13T08:05:51.224378Z",
     "iopub.status.busy": "2024-09-13T08:05:51.223957Z",
     "iopub.status.idle": "2024-09-13T08:05:51.289824Z",
     "shell.execute_reply": "2024-09-13T08:05:51.288579Z",
     "shell.execute_reply.started": "2024-09-13T08:05:51.224334Z"
    }
   },
   "outputs": [
    {
     "data": {
      "text/plain": [
       "74.07"
      ]
     },
     "execution_count": 52,
     "metadata": {},
     "output_type": "execute_result"
    }
   ],
   "source": [
    "# 线性SVC\n",
    "linear_svc = LinearSVC()\n",
    "linear_svc.fit(X_train, Y_train)\n",
    "Y_pred = linear_svc.predict(X_test)\n",
    "acc_linear_svc = round(linear_svc.score(X_train, Y_train) * 100, 2)\n",
    "acc_linear_svc"
   ]
  },
  {
   "cell_type": "code",
   "execution_count": 53,
   "id": "6859627b",
   "metadata": {
    "execution": {
     "iopub.execute_input": "2024-09-13T08:05:51.291738Z",
     "iopub.status.busy": "2024-09-13T08:05:51.291240Z",
     "iopub.status.idle": "2024-09-13T08:05:51.311443Z",
     "shell.execute_reply": "2024-09-13T08:05:51.310003Z",
     "shell.execute_reply.started": "2024-09-13T08:05:51.291693Z"
    }
   },
   "outputs": [
    {
     "data": {
      "text/plain": [
       "73.51"
      ]
     },
     "execution_count": 53,
     "metadata": {},
     "output_type": "execute_result"
    }
   ],
   "source": [
    "# SDG随机梯度下降\n",
    "sgd = SGDClassifier()\n",
    "sgd.fit(X_train, Y_train)\n",
    "Y_pred = sgd.predict(X_test)\n",
    "acc_sgd = round(sgd.score(X_train, Y_train) * 100, 2)\n",
    "acc_sgd"
   ]
  },
  {
   "cell_type": "markdown",
   "id": "3d327478",
   "metadata": {},
   "source": [
    "**决策树**\n",
    "\n",
    "决策树是将特征（树枝）映射到目标值（树叶）的分类或回归方法。目标变量可以取一组有限值的树模型称为分类树；在这些树结构中，叶子代表类标签，分支代表导致这些类标签的特征的结合。目标变量可以取连续值的决策树称为回归树。模型置信度得分是目前最高的。 "
   ]
  },
  {
   "cell_type": "code",
   "execution_count": 54,
   "id": "3d146933",
   "metadata": {
    "execution": {
     "iopub.execute_input": "2024-09-13T08:05:51.314472Z",
     "iopub.status.busy": "2024-09-13T08:05:51.313958Z",
     "iopub.status.idle": "2024-09-13T08:05:51.334760Z",
     "shell.execute_reply": "2024-09-13T08:05:51.333289Z",
     "shell.execute_reply.started": "2024-09-13T08:05:51.314399Z"
    }
   },
   "outputs": [
    {
     "data": {
      "text/plain": [
       "94.16"
      ]
     },
     "execution_count": 54,
     "metadata": {},
     "output_type": "execute_result"
    }
   ],
   "source": [
    "# 决策树\n",
    "decision_tree = DecisionTreeClassifier()\n",
    "decision_tree.fit(X_train, Y_train)\n",
    "Y_pred = decision_tree.predict(X_test)\n",
    "acc_decision_tree = round(decision_tree.score(X_train, Y_train) * 100, 2)\n",
    "acc_decision_tree"
   ]
  },
  {
   "cell_type": "code",
   "execution_count": 55,
   "id": "f6d104ec",
   "metadata": {
    "execution": {
     "iopub.execute_input": "2024-09-13T08:08:39.797222Z",
     "iopub.status.busy": "2024-09-13T08:08:39.795492Z",
     "iopub.status.idle": "2024-09-13T08:08:40.672891Z",
     "shell.execute_reply": "2024-09-13T08:08:40.671746Z",
     "shell.execute_reply.started": "2024-09-13T08:08:39.797163Z"
    }
   },
   "outputs": [
    {
     "ename": "ModuleNotFoundError",
     "evalue": "No module named 'graphviz'",
     "output_type": "error",
     "traceback": [
      "\u001b[1;31m---------------------------------------------------------------------------\u001b[0m",
      "\u001b[1;31mModuleNotFoundError\u001b[0m                       Traceback (most recent call last)",
      "Cell \u001b[1;32mIn[55], line 6\u001b[0m\n\u001b[0;32m      4\u001b[0m \u001b[38;5;66;03m# 决策树可视化\u001b[39;00m\n\u001b[0;32m      5\u001b[0m \u001b[38;5;28;01mfrom\u001b[39;00m \u001b[38;5;21;01msklearn\u001b[39;00m \u001b[38;5;28;01mimport\u001b[39;00m tree\n\u001b[1;32m----> 6\u001b[0m \u001b[38;5;28;01mimport\u001b[39;00m \u001b[38;5;21;01mgraphviz\u001b[39;00m\n\u001b[0;32m      7\u001b[0m \u001b[38;5;28;01mimport\u001b[39;00m \u001b[38;5;21;01mpydotplus\u001b[39;00m  \n\u001b[0;32m      8\u001b[0m \u001b[38;5;28;01mfrom\u001b[39;00m \u001b[38;5;21;01mIPython\u001b[39;00m\u001b[38;5;21;01m.\u001b[39;00m\u001b[38;5;21;01mdisplay\u001b[39;00m \u001b[38;5;28;01mimport\u001b[39;00m Image\n",
      "\u001b[1;31mModuleNotFoundError\u001b[0m: No module named 'graphviz'"
     ]
    }
   ],
   "source": [
    "\n",
    "import os     \n",
    "os.environ[\"PATH\"] += os.pathsep + 'C:/Program Files/Graphviz/bin/'\n",
    "\n",
    "# 决策树可视化\n",
    "from sklearn import tree\n",
    "import graphviz\n",
    "import pydotplus  \n",
    "from IPython.display import Image\n",
    "dot_data = tree.export_graphviz(decision_tree, out_file=None, \n",
    "                         feature_names=X_train.columns,  \n",
    "                         class_names=['0','1'],  \n",
    "                         max_depth=3,\n",
    "                         filled=True, rounded=True,  \n",
    "                         special_characters=True)  \n",
    "graph = pydotplus.graph_from_dot_data(dot_data)  \n",
    "Image(graph.create_png())"
   ]
  },
  {
   "cell_type": "code",
   "execution_count": null,
   "id": "f40e0aaa",
   "metadata": {
    "execution": {
     "iopub.execute_input": "2024-09-13T08:09:43.446228Z",
     "iopub.status.busy": "2024-09-13T08:09:43.445776Z",
     "iopub.status.idle": "2024-09-13T08:09:47.005155Z",
     "shell.execute_reply": "2024-09-13T08:09:47.004010Z",
     "shell.execute_reply.started": "2024-09-13T08:09:43.446188Z"
    }
   },
   "outputs": [],
   "source": [
    "dot_data = tree.export_graphviz(decision_tree, out_file=None,\n",
    "                         feature_names=X_train.columns,  \n",
    "                         #class_names=['0','1'],  \n",
    "                         filled=True, rounded=True,  \n",
    "                         special_characters=True)  \n",
    "graph = pydotplus.graph_from_dot_data(dot_data)  \n",
    "graph.write_pdf(\"DTtree.pdf\") \n",
    "\n",
    "train_df[(train_df['Age*Pclass']>2.5) & (train_df['Fare']<=1.5)&(train_df['Fare']>0.5)&(train_df['IsAlone']>0.5)&(train_df['Age']>0.5)& \\\n",
    "         (train_df['Embarked']<=1.5) &(train_df['Embarked']>0.5)&(train_df['Fare']<=2.5)&(train_df['Age']<=1.5)&(train_df['Pclass']>1.5)& \\\n",
    "         (train_df['Title']<=1.5)]"
   ]
  },
  {
   "cell_type": "markdown",
   "id": "e82d31f5",
   "metadata": {},
   "source": [
    "**随机森林**\n",
    "\n",
    "随机森林是一种用于分类、回归和其他任务的集成学习方法。它通过自助法（bootstrap）重采样技术，从原始训练样本集中有放回地重复随机抽取n个样本生成新的训练样本集合训练决策树，然后按以上步骤生成m棵决策树组成随机森林，新数据的分类结果按分类树投票多少形成的分数而定。其实质是对决策树算法的一种改进，将多个决策树合并在一起，每棵树的建立依赖于独立抽取的样本。模型置信度得分是目前评估的模型中最高的。 "
   ]
  },
  {
   "cell_type": "code",
   "execution_count": null,
   "id": "81b74418",
   "metadata": {
    "execution": {
     "iopub.execute_input": "2024-09-13T08:09:57.618313Z",
     "iopub.status.busy": "2024-09-13T08:09:57.617851Z",
     "iopub.status.idle": "2024-09-13T08:09:57.931075Z",
     "shell.execute_reply": "2024-09-13T08:09:57.929922Z",
     "shell.execute_reply.started": "2024-09-13T08:09:57.618269Z"
    }
   },
   "outputs": [],
   "source": [
    "# 随机森林\n",
    "random_forest = RandomForestClassifier(n_estimators=100)\n",
    "random_forest.fit(X_train, Y_train)\n",
    "Y_pred = random_forest.predict(X_test)\n",
    "random_forest.score(X_train, Y_train)\n",
    "acc_random_forest = round(random_forest.score(X_train, Y_train) * 100, 2)\n",
    "acc_random_forest"
   ]
  },
  {
   "cell_type": "markdown",
   "id": "6735ee76",
   "metadata": {},
   "source": [
    "### （8）模型评估\n",
    "\n",
    "我们现在可以对所有模型评估结果进行排名，以选择最适合我们问题的模型。 虽然决策树和随机森林的得分相同，但我们选择使用随机森林，因为它纠正了决策树过度拟合训练集带来的缺陷。 "
   ]
  },
  {
   "cell_type": "code",
   "execution_count": null,
   "id": "85a17c11",
   "metadata": {
    "execution": {
     "iopub.execute_input": "2024-09-13T08:10:01.700358Z",
     "iopub.status.busy": "2024-09-13T08:10:01.699370Z",
     "iopub.status.idle": "2024-09-13T08:10:01.716380Z",
     "shell.execute_reply": "2024-09-13T08:10:01.714686Z",
     "shell.execute_reply.started": "2024-09-13T08:10:01.700303Z"
    }
   },
   "outputs": [],
   "source": [
    "models = pd.DataFrame({\n",
    "    'Model': ['Support Vector Machines', 'KNN', 'Logistic Regression', \n",
    "              'Random Forest', 'Naive Bayes', 'Perceptron', \n",
    "              'Stochastic Gradient Decent', 'Linear SVC', \n",
    "              'Decision Tree'],\n",
    "    'Score': [acc_svc, acc_knn, acc_log, \n",
    "              acc_random_forest, acc_gaussian, acc_perceptron, \n",
    "              acc_sgd, acc_linear_svc, acc_decision_tree]})\n",
    "models.sort_values(by='Score', ascending=False)"
   ]
  },
  {
   "cell_type": "markdown",
   "id": "9e7a637c",
   "metadata": {},
   "source": [
    "### （9）提交预测结果"
   ]
  },
  {
   "cell_type": "code",
   "execution_count": null,
   "id": "2792642f",
   "metadata": {
    "execution": {
     "iopub.execute_input": "2024-09-13T08:10:12.058368Z",
     "iopub.status.busy": "2024-09-13T08:10:12.057898Z",
     "iopub.status.idle": "2024-09-13T08:10:12.070460Z",
     "shell.execute_reply": "2024-09-13T08:10:12.069206Z",
     "shell.execute_reply.started": "2024-09-13T08:10:12.058329Z"
    }
   },
   "outputs": [],
   "source": [
    "submission = pd.DataFrame({\n",
    "        \"PassengerId\": test_df[\"PassengerId\"],\n",
    "        \"Survived\": Y_pred\n",
    "    })\n",
    "submission.to_csv('./submission.csv', index=False)\n"
   ]
  },
  {
   "cell_type": "code",
   "execution_count": null,
   "id": "bc179ac2",
   "metadata": {},
   "outputs": [],
   "source": []
  },
  {
   "cell_type": "code",
   "execution_count": null,
   "id": "9e882d60",
   "metadata": {},
   "outputs": [],
   "source": []
  },
  {
   "cell_type": "markdown",
   "id": "3a67884a",
   "metadata": {},
   "source": [
    "<div class=\"toc\"><ul class=\"toc-item\"><li><span><a href=\"#泰坦尼克号——来自灾难的机器学习\" data-toc-modified-id=\"泰坦尼克号——来自灾难的机器学习-1\"><span class=\"toc-item-num\">1&nbsp;&nbsp;</span>泰坦尼克号——来自灾难的机器学习</a></span><ul class=\"toc-item\"><li><span><a href=\"#1.-概述\" data-toc-modified-id=\"1.-概述-1.1\"><span class=\"toc-item-num\">1.1&nbsp;&nbsp;</span>1. 概述</a></span></li><li><span><a href=\"#2.-数据\" data-toc-modified-id=\"2.-数据-1.2\"><span class=\"toc-item-num\">1.2&nbsp;&nbsp;</span>2. 数据</a></span></li><li><span><a href=\"#3.-实施流程\" data-toc-modified-id=\"3.-实施流程-1.3\"><span class=\"toc-item-num\">1.3&nbsp;&nbsp;</span>3. 实施流程</a></span></li><li><span><a href=\"#4.-代码实现\" data-toc-modified-id=\"4.-代码实现-1.4\"><span class=\"toc-item-num\">1.4&nbsp;&nbsp;</span>4. 代码实现</a></span><ul class=\"toc-item\"><li><span><a href=\"#（1）导入包\" data-toc-modified-id=\"（1）导入包-1.4.1\"><span class=\"toc-item-num\">1.4.1&nbsp;&nbsp;</span>（1）导入包</a></span></li><li><span><a href=\"#（2）加载数据集\" data-toc-modified-id=\"（2）加载数据集-1.4.2\"><span class=\"toc-item-num\">1.4.2&nbsp;&nbsp;</span>（2）加载数据集</a></span></li><li><span><a href=\"#（3）描述性统计分析\" data-toc-modified-id=\"（3）描述性统计分析-1.4.3\"><span class=\"toc-item-num\">1.4.3&nbsp;&nbsp;</span>（3）描述性统计分析</a></span></li><li><span><a href=\"#（4）基于数据分析的假设\" data-toc-modified-id=\"（4）基于数据分析的假设-1.4.4\"><span class=\"toc-item-num\">1.4.4&nbsp;&nbsp;</span>（4）基于数据分析的假设</a></span></li><li><span><a href=\"#（5）可视化数据分析\" data-toc-modified-id=\"（5）可视化数据分析-1.4.5\"><span class=\"toc-item-num\">1.4.5&nbsp;&nbsp;</span>（5）可视化数据分析</a></span></li><li><span><a href=\"#（6）整理、清洗数据\" data-toc-modified-id=\"（6）整理、清洗数据-1.4.6\"><span class=\"toc-item-num\">1.4.6&nbsp;&nbsp;</span>（6）整理、清洗数据</a></span></li><li><span><a href=\"#（7）构建模型并预测结果\" data-toc-modified-id=\"（7）构建模型并预测结果-1.4.7\"><span class=\"toc-item-num\">1.4.7&nbsp;&nbsp;</span>（7）构建模型并预测结果</a></span></li><li><span><a href=\"#（8）模型评估\" data-toc-modified-id=\"（8）模型评估-1.4.8\"><span class=\"toc-item-num\">1.4.8&nbsp;&nbsp;</span>（8）模型评估</a></span></li><li><span><a href=\"#（9）提交预测结果\" data-toc-modified-id=\"（9）提交预测结果-1.4.9\"><span class=\"toc-item-num\">1.4.9&nbsp;&nbsp;</span>（9）提交预测结果</a></span></li></ul></li></ul></li></ul></div>"
   ]
  },
  {
   "cell_type": "code",
   "execution_count": null,
   "id": "b8644834",
   "metadata": {},
   "outputs": [],
   "source": []
  }
 ],
 "metadata": {
  "celltoolbar": "原始单元格格式",
  "kaggle": {
   "accelerator": "none",
   "dataSources": [
    {
     "datasetId": 5691463,
     "sourceId": 9381601,
     "sourceType": "datasetVersion"
    }
   ],
   "dockerImageVersionId": 30761,
   "isGpuEnabled": false,
   "isInternetEnabled": true,
   "language": "python",
   "sourceType": "notebook"
  },
  "kernelspec": {
   "display_name": "Python 3 (ipykernel)",
   "language": "python",
   "name": "python3"
  },
  "language_info": {
   "codemirror_mode": {
    "name": "ipython",
    "version": 3
   },
   "file_extension": ".py",
   "mimetype": "text/x-python",
   "name": "python",
   "nbconvert_exporter": "python",
   "pygments_lexer": "ipython3",
   "version": "3.8.19"
  },
  "toc": {
   "base_numbering": 1,
   "nav_menu": {},
   "number_sections": true,
   "sideBar": true,
   "skip_h1_title": false,
   "title_cell": "Table of Contents",
   "title_sidebar": "Contents",
   "toc_cell": true,
   "toc_position": {
    "height": "calc(100% - 180px)",
    "left": "10px",
    "top": "150px",
    "width": "280.741px"
   },
   "toc_section_display": true,
   "toc_window_display": true
  }
 },
 "nbformat": 4,
 "nbformat_minor": 5
}
